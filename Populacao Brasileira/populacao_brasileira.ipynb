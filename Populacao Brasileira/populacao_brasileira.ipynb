{
  "nbformat": 4,
  "nbformat_minor": 0,
  "metadata": {
    "colab": {
      "name": "populacao_brasileira.ipynb",
      "provenance": [],
      "collapsed_sections": [],
      "authorship_tag": "ABX9TyPoFmx0mCK8QR03UV275KUj"
    },
    "kernelspec": {
      "name": "python3",
      "display_name": "Python 3"
    },
    "language_info": {
      "name": "python"
    }
  },
  "cells": [
    {
      "cell_type": "markdown",
      "metadata": {
        "id": "NNVXkHP2-L6M"
      },
      "source": [
        "# **Análise de dados da população Brasileira e sua distribuição geográfica**\n",
        "\n",
        "Dados da densidade populacional do Brasil.\n",
        "\n",
        "\n",
        "**Fonte:** https://pt.wikipedia.org/\n",
        "\n",
        "**Dados disponíveis em:** https://pt.wikipedia.org/wiki/Lista_de_estados_brasileiros_por_n%C3%BAmero_de_munic%C3%ADpios"
      ]
    },
    {
      "cell_type": "code",
      "metadata": {
        "id": "RwQXrRt9sAHl"
      },
      "source": [
        "import pandas as pd"
      ],
      "execution_count": null,
      "outputs": []
    },
    {
      "cell_type": "code",
      "metadata": {
        "id": "b0kRsSlH3A6u"
      },
      "source": [
        "url = 'https://pt.wikipedia.org/wiki/Lista_de_estados_brasileiros_por_n%C3%BAmero_de_munic%C3%ADpios'"
      ],
      "execution_count": null,
      "outputs": []
    },
    {
      "cell_type": "code",
      "metadata": {
        "id": "Qek4rt926Pjk"
      },
      "source": [
        "lista_df = pd.read_html(url)"
      ],
      "execution_count": null,
      "outputs": []
    },
    {
      "cell_type": "code",
      "metadata": {
        "colab": {
          "base_uri": "https://localhost:8080/"
        },
        "id": "asQh5QHFtWJW",
        "outputId": "70a375fe-1ffe-4fed-ee6a-78edb81bf2d2"
      },
      "source": [
        "lista_df"
      ],
      "execution_count": null,
      "outputs": [
        {
          "output_type": "execute_result",
          "data": {
            "text/plain": [
              "[  Número total de municípios Número total de municípios.1\n",
              " 0                     Brasil                        5 568,\n",
              "          Região  Unidadesfederativas Municípios Porcentagem\n",
              " 0      Nordeste                    9      1 793      32,21%\n",
              " 1       Sudeste                    4      1 668      29,95%\n",
              " 2           Sul                    3      1 191      21,39%\n",
              " 3  Centro-Oeste                    4        466       8,37%\n",
              " 4         Norte                    7        450       8,08%,\n",
              "     Posição  ... Média de habitantespor município\n",
              " 0         1  ...                        24 606,40\n",
              " 1         2  ...                        69 370,85\n",
              " 2         3  ...                        22 717,85\n",
              " 3         4  ...                        36 621,28\n",
              " 4         5  ...                        28 174,60\n",
              " 5         6  ...                        23 331,50\n",
              " 6         7  ...                        27 195,83\n",
              " 7         8  ...                        14 340,96\n",
              " 8         9  ...                        17 917,22\n",
              " 9        10  ...                        32 007,13\n",
              " 10       11  ...                        50 838,70\n",
              " 11       12  ...                        48 720,25\n",
              " 12       13  ...                        20 798,00\n",
              " 13       14  ...                        57 368,27\n",
              " 14       15  ...                        23 418,73\n",
              " 15       16  ...                        11 019,74\n",
              " 16       17  ...                        32 916,61\n",
              " 17       18  ...                       180 833,33\n",
              " 18       19  ...                        33 933,66\n",
              " 19       20  ...                        50 850,77\n",
              " 20       21  ...                        30 194,75\n",
              " 21       22  ...                        64 457,02\n",
              " 22       23  ...                        34 350,38\n",
              " 23       24  ...                        37 070,23\n",
              " 24       25  ...                        48 857,06\n",
              " 25       26  ...                        34 306,27\n",
              " \n",
              " [26 rows x 6 columns],\n",
              "    vdeClassificações das unidades federativas do Brasil vdeClassificações das unidades federativas do Brasil.1\n",
              " 0                         Características geográficas    Área Densidade demográfica Número de município...    \n",
              " 1                            Indicadores demográficos    População Densidade demográfica Natalidade Fec...    \n",
              " 2                                      Gestão pública    Sedes governamentais Transparência Arrecadação...    \n",
              " 3                    Indicadores econômicos e sociais    PIB Série histórica 1939 1950 1960 1970 1980 1...    \n",
              " 4                                                 PIB    Série histórica 1939 1950 1960 1970 1980 1990 ...    \n",
              " 5                                            Trabalho    Empregados com carteira assinada Desemprego Ap...    \n",
              " 6                            Desigualdade e bem-estar    Segurança alimentar Renda per capita IDH segun...    \n",
              " 7                                            Educação    Alfabetização Crianças e adolescentes fora da ...    \n",
              " 8                                               Saúde    Mortalidade infantil Óbitos infantis Taxa de h...    \n",
              " 9                                              Outros    Religião Circunscrições eclesiásticas Competit...    \n",
              " 10                                           Símbolos                              Bandeiras Brasões Hinos    ,\n",
              "                           0                                                  1\n",
              " 0                       PIB  Série histórica 1939 1950 1960 1970 1980 1990 ...\n",
              " 1                  Trabalho  Empregados com carteira assinada Desemprego Ap...\n",
              " 2  Desigualdade e bem-estar  Segurança alimentar Renda per capita IDH segun...\n",
              " 3                  Educação  Alfabetização Crianças e adolescentes fora da ...\n",
              " 4                     Saúde  Mortalidade infantil Óbitos infantis Taxa de h...\n",
              " 5                    Outros  Religião Circunscrições eclesiásticas Competit...]"
            ]
          },
          "metadata": {
            "tags": []
          },
          "execution_count": 39
        }
      ]
    },
    {
      "cell_type": "markdown",
      "metadata": {
        "id": "Fug7OotMtbBB"
      },
      "source": [
        "### **Seleção dos dataframes da lista que seram utilizados nesta análise**"
      ]
    },
    {
      "cell_type": "code",
      "metadata": {
        "colab": {
          "base_uri": "https://localhost:8080/",
          "height": 206
        },
        "id": "O2yzMr6ZsasT",
        "outputId": "b8f38e6d-f299-4e72-cc38-ff7ee6a41ade"
      },
      "source": [
        "#Quantidade de habitantes por região\n",
        "qhr = lista_df[1]\n",
        "qhr.head()"
      ],
      "execution_count": null,
      "outputs": [
        {
          "output_type": "execute_result",
          "data": {
            "text/html": [
              "<div>\n",
              "<style scoped>\n",
              "    .dataframe tbody tr th:only-of-type {\n",
              "        vertical-align: middle;\n",
              "    }\n",
              "\n",
              "    .dataframe tbody tr th {\n",
              "        vertical-align: top;\n",
              "    }\n",
              "\n",
              "    .dataframe thead th {\n",
              "        text-align: right;\n",
              "    }\n",
              "</style>\n",
              "<table border=\"1\" class=\"dataframe\">\n",
              "  <thead>\n",
              "    <tr style=\"text-align: right;\">\n",
              "      <th></th>\n",
              "      <th>Região</th>\n",
              "      <th>Unidadesfederativas</th>\n",
              "      <th>Municípios</th>\n",
              "      <th>Porcentagem</th>\n",
              "    </tr>\n",
              "  </thead>\n",
              "  <tbody>\n",
              "    <tr>\n",
              "      <th>0</th>\n",
              "      <td>Nordeste</td>\n",
              "      <td>9</td>\n",
              "      <td>1 793</td>\n",
              "      <td>32,21%</td>\n",
              "    </tr>\n",
              "    <tr>\n",
              "      <th>1</th>\n",
              "      <td>Sudeste</td>\n",
              "      <td>4</td>\n",
              "      <td>1 668</td>\n",
              "      <td>29,95%</td>\n",
              "    </tr>\n",
              "    <tr>\n",
              "      <th>2</th>\n",
              "      <td>Sul</td>\n",
              "      <td>3</td>\n",
              "      <td>1 191</td>\n",
              "      <td>21,39%</td>\n",
              "    </tr>\n",
              "    <tr>\n",
              "      <th>3</th>\n",
              "      <td>Centro-Oeste</td>\n",
              "      <td>4</td>\n",
              "      <td>466</td>\n",
              "      <td>8,37%</td>\n",
              "    </tr>\n",
              "    <tr>\n",
              "      <th>4</th>\n",
              "      <td>Norte</td>\n",
              "      <td>7</td>\n",
              "      <td>450</td>\n",
              "      <td>8,08%</td>\n",
              "    </tr>\n",
              "  </tbody>\n",
              "</table>\n",
              "</div>"
            ],
            "text/plain": [
              "         Região  Unidadesfederativas Municípios Porcentagem\n",
              "0      Nordeste                    9      1 793      32,21%\n",
              "1       Sudeste                    4      1 668      29,95%\n",
              "2           Sul                    3      1 191      21,39%\n",
              "3  Centro-Oeste                    4        466       8,37%\n",
              "4         Norte                    7        450       8,08%"
            ]
          },
          "metadata": {
            "tags": []
          },
          "execution_count": 40
        }
      ]
    },
    {
      "cell_type": "code",
      "metadata": {
        "colab": {
          "base_uri": "https://localhost:8080/"
        },
        "id": "_xn997ofxAFK",
        "outputId": "b0e6b76b-eb30-4f90-b831-8bc536b231e1"
      },
      "source": [
        "qhr.info()"
      ],
      "execution_count": null,
      "outputs": [
        {
          "output_type": "stream",
          "text": [
            "<class 'pandas.core.frame.DataFrame'>\n",
            "RangeIndex: 5 entries, 0 to 4\n",
            "Data columns (total 4 columns):\n",
            " #   Column               Non-Null Count  Dtype \n",
            "---  ------               --------------  ----- \n",
            " 0   Região               5 non-null      object\n",
            " 1   Unidadesfederativas  5 non-null      int64 \n",
            " 2   Municípios           5 non-null      object\n",
            " 3   Porcentagem          5 non-null      object\n",
            "dtypes: int64(1), object(3)\n",
            "memory usage: 288.0+ bytes\n"
          ],
          "name": "stdout"
        }
      ]
    },
    {
      "cell_type": "code",
      "metadata": {
        "colab": {
          "base_uri": "https://localhost:8080/",
          "height": 300
        },
        "id": "FKItzGOHxD0c",
        "outputId": "4017fc57-41ec-4747-df24-3fecf1b60b55"
      },
      "source": [
        "qhr.describe()"
      ],
      "execution_count": null,
      "outputs": [
        {
          "output_type": "execute_result",
          "data": {
            "text/html": [
              "<div>\n",
              "<style scoped>\n",
              "    .dataframe tbody tr th:only-of-type {\n",
              "        vertical-align: middle;\n",
              "    }\n",
              "\n",
              "    .dataframe tbody tr th {\n",
              "        vertical-align: top;\n",
              "    }\n",
              "\n",
              "    .dataframe thead th {\n",
              "        text-align: right;\n",
              "    }\n",
              "</style>\n",
              "<table border=\"1\" class=\"dataframe\">\n",
              "  <thead>\n",
              "    <tr style=\"text-align: right;\">\n",
              "      <th></th>\n",
              "      <th>Unidadesfederativas</th>\n",
              "    </tr>\n",
              "  </thead>\n",
              "  <tbody>\n",
              "    <tr>\n",
              "      <th>count</th>\n",
              "      <td>5.00000</td>\n",
              "    </tr>\n",
              "    <tr>\n",
              "      <th>mean</th>\n",
              "      <td>5.40000</td>\n",
              "    </tr>\n",
              "    <tr>\n",
              "      <th>std</th>\n",
              "      <td>2.50998</td>\n",
              "    </tr>\n",
              "    <tr>\n",
              "      <th>min</th>\n",
              "      <td>3.00000</td>\n",
              "    </tr>\n",
              "    <tr>\n",
              "      <th>25%</th>\n",
              "      <td>4.00000</td>\n",
              "    </tr>\n",
              "    <tr>\n",
              "      <th>50%</th>\n",
              "      <td>4.00000</td>\n",
              "    </tr>\n",
              "    <tr>\n",
              "      <th>75%</th>\n",
              "      <td>7.00000</td>\n",
              "    </tr>\n",
              "    <tr>\n",
              "      <th>max</th>\n",
              "      <td>9.00000</td>\n",
              "    </tr>\n",
              "  </tbody>\n",
              "</table>\n",
              "</div>"
            ],
            "text/plain": [
              "       Unidadesfederativas\n",
              "count              5.00000\n",
              "mean               5.40000\n",
              "std                2.50998\n",
              "min                3.00000\n",
              "25%                4.00000\n",
              "50%                4.00000\n",
              "75%                7.00000\n",
              "max                9.00000"
            ]
          },
          "metadata": {
            "tags": []
          },
          "execution_count": 42
        }
      ]
    },
    {
      "cell_type": "markdown",
      "metadata": {
        "id": "ZGUB9dPM2lqX"
      },
      "source": [
        "**Obs.:** Pudemos observar que algumas colunas estão com a tipagem incorreta, por exemplo a coluna 'Municípios' que deveria ser de um tipo numérico mas esta indicada com o tipo 'object'. Desta forma, corrigiramos isso a segir."
      ]
    },
    {
      "cell_type": "code",
      "metadata": {
        "id": "0vPbON210NGr"
      },
      "source": [
        "!pip install unidecode"
      ],
      "execution_count": null,
      "outputs": []
    },
    {
      "cell_type": "code",
      "metadata": {
        "id": "grfCY7F833b0"
      },
      "source": [
        "from unidecode import unidecode"
      ],
      "execution_count": null,
      "outputs": []
    },
    {
      "cell_type": "code",
      "metadata": {
        "id": "Mgj9fUOK37gV"
      },
      "source": [
        "qhr['Municípios'] = qhr['Municípios'].apply(lambda x: (unidecode(x).replace(' ',''))).astype(int)"
      ],
      "execution_count": null,
      "outputs": []
    },
    {
      "cell_type": "code",
      "metadata": {
        "colab": {
          "base_uri": "https://localhost:8080/"
        },
        "id": "u2FxM6l64Fu4",
        "outputId": "8d9f5d64-c75f-40c6-98e4-ec105fd45ede"
      },
      "source": [
        "qhr.info()"
      ],
      "execution_count": null,
      "outputs": [
        {
          "output_type": "stream",
          "text": [
            "<class 'pandas.core.frame.DataFrame'>\n",
            "RangeIndex: 5 entries, 0 to 4\n",
            "Data columns (total 4 columns):\n",
            " #   Column               Non-Null Count  Dtype \n",
            "---  ------               --------------  ----- \n",
            " 0   Região               5 non-null      object\n",
            " 1   Unidadesfederativas  5 non-null      int64 \n",
            " 2   Municípios           5 non-null      int64 \n",
            " 3   Porcentagem          5 non-null      object\n",
            "dtypes: int64(2), object(2)\n",
            "memory usage: 288.0+ bytes\n"
          ],
          "name": "stdout"
        }
      ]
    },
    {
      "cell_type": "code",
      "metadata": {
        "colab": {
          "base_uri": "https://localhost:8080/",
          "height": 300
        },
        "id": "XSO1_rrG4OFg",
        "outputId": "6bb51265-83b4-4b02-9ff3-2a77753542bc"
      },
      "source": [
        "qhr.describe()"
      ],
      "execution_count": null,
      "outputs": [
        {
          "output_type": "execute_result",
          "data": {
            "text/html": [
              "<div>\n",
              "<style scoped>\n",
              "    .dataframe tbody tr th:only-of-type {\n",
              "        vertical-align: middle;\n",
              "    }\n",
              "\n",
              "    .dataframe tbody tr th {\n",
              "        vertical-align: top;\n",
              "    }\n",
              "\n",
              "    .dataframe thead th {\n",
              "        text-align: right;\n",
              "    }\n",
              "</style>\n",
              "<table border=\"1\" class=\"dataframe\">\n",
              "  <thead>\n",
              "    <tr style=\"text-align: right;\">\n",
              "      <th></th>\n",
              "      <th>Unidadesfederativas</th>\n",
              "      <th>Municípios</th>\n",
              "    </tr>\n",
              "  </thead>\n",
              "  <tbody>\n",
              "    <tr>\n",
              "      <th>count</th>\n",
              "      <td>5.00000</td>\n",
              "      <td>5.000000</td>\n",
              "    </tr>\n",
              "    <tr>\n",
              "      <th>mean</th>\n",
              "      <td>5.40000</td>\n",
              "      <td>1113.600000</td>\n",
              "    </tr>\n",
              "    <tr>\n",
              "      <th>std</th>\n",
              "      <td>2.50998</td>\n",
              "      <td>639.274041</td>\n",
              "    </tr>\n",
              "    <tr>\n",
              "      <th>min</th>\n",
              "      <td>3.00000</td>\n",
              "      <td>450.000000</td>\n",
              "    </tr>\n",
              "    <tr>\n",
              "      <th>25%</th>\n",
              "      <td>4.00000</td>\n",
              "      <td>466.000000</td>\n",
              "    </tr>\n",
              "    <tr>\n",
              "      <th>50%</th>\n",
              "      <td>4.00000</td>\n",
              "      <td>1191.000000</td>\n",
              "    </tr>\n",
              "    <tr>\n",
              "      <th>75%</th>\n",
              "      <td>7.00000</td>\n",
              "      <td>1668.000000</td>\n",
              "    </tr>\n",
              "    <tr>\n",
              "      <th>max</th>\n",
              "      <td>9.00000</td>\n",
              "      <td>1793.000000</td>\n",
              "    </tr>\n",
              "  </tbody>\n",
              "</table>\n",
              "</div>"
            ],
            "text/plain": [
              "       Unidadesfederativas   Municípios\n",
              "count              5.00000     5.000000\n",
              "mean               5.40000  1113.600000\n",
              "std                2.50998   639.274041\n",
              "min                3.00000   450.000000\n",
              "25%                4.00000   466.000000\n",
              "50%                4.00000  1191.000000\n",
              "75%                7.00000  1668.000000\n",
              "max                9.00000  1793.000000"
            ]
          },
          "metadata": {
            "tags": []
          },
          "execution_count": 47
        }
      ]
    },
    {
      "cell_type": "code",
      "metadata": {
        "colab": {
          "base_uri": "https://localhost:8080/",
          "height": 276
        },
        "id": "610vvgrCse_H",
        "outputId": "3e2ae6e8-485d-4461-b6ec-9b60445f07cd"
      },
      "source": [
        "#Quantidade de municípios por estado\n",
        "qme = lista_df[2]\n",
        "qme.head()"
      ],
      "execution_count": null,
      "outputs": [
        {
          "output_type": "execute_result",
          "data": {
            "text/html": [
              "<div>\n",
              "<style scoped>\n",
              "    .dataframe tbody tr th:only-of-type {\n",
              "        vertical-align: middle;\n",
              "    }\n",
              "\n",
              "    .dataframe tbody tr th {\n",
              "        vertical-align: top;\n",
              "    }\n",
              "\n",
              "    .dataframe thead th {\n",
              "        text-align: right;\n",
              "    }\n",
              "</style>\n",
              "<table border=\"1\" class=\"dataframe\">\n",
              "  <thead>\n",
              "    <tr style=\"text-align: right;\">\n",
              "      <th></th>\n",
              "      <th>Posição</th>\n",
              "      <th>Estado</th>\n",
              "      <th>Região</th>\n",
              "      <th>Número demunicípios[8]</th>\n",
              "      <th>Número de habitantespor estado federado[9]</th>\n",
              "      <th>Média de habitantespor município</th>\n",
              "    </tr>\n",
              "  </thead>\n",
              "  <tbody>\n",
              "    <tr>\n",
              "      <th>0</th>\n",
              "      <td>1</td>\n",
              "      <td>Minas Gerais</td>\n",
              "      <td>Sudeste</td>\n",
              "      <td>853</td>\n",
              "      <td>20 989 259</td>\n",
              "      <td>24 606,40</td>\n",
              "    </tr>\n",
              "    <tr>\n",
              "      <th>1</th>\n",
              "      <td>2</td>\n",
              "      <td>São Paulo</td>\n",
              "      <td>Sudeste</td>\n",
              "      <td>645</td>\n",
              "      <td>44 744 199</td>\n",
              "      <td>69 370,85</td>\n",
              "    </tr>\n",
              "    <tr>\n",
              "      <th>2</th>\n",
              "      <td>3</td>\n",
              "      <td>Rio Grande do Sul</td>\n",
              "      <td>Sul</td>\n",
              "      <td>497</td>\n",
              "      <td>11 290 773</td>\n",
              "      <td>22 717,85</td>\n",
              "    </tr>\n",
              "    <tr>\n",
              "      <th>3</th>\n",
              "      <td>4</td>\n",
              "      <td>Bahia</td>\n",
              "      <td>Nordeste</td>\n",
              "      <td>417</td>\n",
              "      <td>15 271 073</td>\n",
              "      <td>36 621,28</td>\n",
              "    </tr>\n",
              "    <tr>\n",
              "      <th>4</th>\n",
              "      <td>5</td>\n",
              "      <td>Paraná</td>\n",
              "      <td>Sul</td>\n",
              "      <td>399</td>\n",
              "      <td>11 241 665</td>\n",
              "      <td>28 174,60</td>\n",
              "    </tr>\n",
              "  </tbody>\n",
              "</table>\n",
              "</div>"
            ],
            "text/plain": [
              "   Posição  ... Média de habitantespor município\n",
              "0        1  ...                        24 606,40\n",
              "1        2  ...                        69 370,85\n",
              "2        3  ...                        22 717,85\n",
              "3        4  ...                        36 621,28\n",
              "4        5  ...                        28 174,60\n",
              "\n",
              "[5 rows x 6 columns]"
            ]
          },
          "metadata": {
            "tags": []
          },
          "execution_count": 48
        }
      ]
    },
    {
      "cell_type": "code",
      "metadata": {
        "id": "sCkHKvJd3UDw"
      },
      "source": [
        "#Alterando o nome de algumas colunas para melhor visualização\n",
        "dic_alteracao = {'Número demunicípios[8]': 'Número de municípios', 'Média de habitantespor município': 'Média por município', 'Número de habitantespor estado federado[9]': 'Habitantes por estado'}\n",
        "qme.rename(columns = dic_alteracao, inplace=True)"
      ],
      "execution_count": null,
      "outputs": []
    },
    {
      "cell_type": "code",
      "metadata": {
        "colab": {
          "base_uri": "https://localhost:8080/",
          "height": 241
        },
        "id": "PkKk8IULu2ZF",
        "outputId": "bf3c71b7-5bd8-48f8-df8e-be627c96bb24"
      },
      "source": [
        "qme.head()"
      ],
      "execution_count": null,
      "outputs": [
        {
          "output_type": "execute_result",
          "data": {
            "text/html": [
              "<div>\n",
              "<style scoped>\n",
              "    .dataframe tbody tr th:only-of-type {\n",
              "        vertical-align: middle;\n",
              "    }\n",
              "\n",
              "    .dataframe tbody tr th {\n",
              "        vertical-align: top;\n",
              "    }\n",
              "\n",
              "    .dataframe thead th {\n",
              "        text-align: right;\n",
              "    }\n",
              "</style>\n",
              "<table border=\"1\" class=\"dataframe\">\n",
              "  <thead>\n",
              "    <tr style=\"text-align: right;\">\n",
              "      <th></th>\n",
              "      <th>Posição</th>\n",
              "      <th>Estado</th>\n",
              "      <th>Região</th>\n",
              "      <th>Número de municípios</th>\n",
              "      <th>Habitantes por estado</th>\n",
              "      <th>Média por município</th>\n",
              "    </tr>\n",
              "  </thead>\n",
              "  <tbody>\n",
              "    <tr>\n",
              "      <th>0</th>\n",
              "      <td>1</td>\n",
              "      <td>Minas Gerais</td>\n",
              "      <td>Sudeste</td>\n",
              "      <td>853</td>\n",
              "      <td>20 989 259</td>\n",
              "      <td>24 606,40</td>\n",
              "    </tr>\n",
              "    <tr>\n",
              "      <th>1</th>\n",
              "      <td>2</td>\n",
              "      <td>São Paulo</td>\n",
              "      <td>Sudeste</td>\n",
              "      <td>645</td>\n",
              "      <td>44 744 199</td>\n",
              "      <td>69 370,85</td>\n",
              "    </tr>\n",
              "    <tr>\n",
              "      <th>2</th>\n",
              "      <td>3</td>\n",
              "      <td>Rio Grande do Sul</td>\n",
              "      <td>Sul</td>\n",
              "      <td>497</td>\n",
              "      <td>11 290 773</td>\n",
              "      <td>22 717,85</td>\n",
              "    </tr>\n",
              "    <tr>\n",
              "      <th>3</th>\n",
              "      <td>4</td>\n",
              "      <td>Bahia</td>\n",
              "      <td>Nordeste</td>\n",
              "      <td>417</td>\n",
              "      <td>15 271 073</td>\n",
              "      <td>36 621,28</td>\n",
              "    </tr>\n",
              "    <tr>\n",
              "      <th>4</th>\n",
              "      <td>5</td>\n",
              "      <td>Paraná</td>\n",
              "      <td>Sul</td>\n",
              "      <td>399</td>\n",
              "      <td>11 241 665</td>\n",
              "      <td>28 174,60</td>\n",
              "    </tr>\n",
              "  </tbody>\n",
              "</table>\n",
              "</div>"
            ],
            "text/plain": [
              "   Posição             Estado  ... Habitantes por estado  Média por município\n",
              "0        1       Minas Gerais  ...            20 989 259            24 606,40\n",
              "1        2          São Paulo  ...            44 744 199            69 370,85\n",
              "2        3  Rio Grande do Sul  ...            11 290 773            22 717,85\n",
              "3        4              Bahia  ...            15 271 073            36 621,28\n",
              "4        5             Paraná  ...            11 241 665            28 174,60\n",
              "\n",
              "[5 rows x 6 columns]"
            ]
          },
          "metadata": {
            "tags": []
          },
          "execution_count": 19
        }
      ]
    },
    {
      "cell_type": "code",
      "metadata": {
        "colab": {
          "base_uri": "https://localhost:8080/"
        },
        "id": "vA31IaMow6ks",
        "outputId": "1a74cb75-6cd3-4bd1-a7ba-550f60cb6441"
      },
      "source": [
        "qme.info()"
      ],
      "execution_count": null,
      "outputs": [
        {
          "output_type": "stream",
          "text": [
            "<class 'pandas.core.frame.DataFrame'>\n",
            "RangeIndex: 26 entries, 0 to 25\n",
            "Data columns (total 6 columns):\n",
            " #   Column                 Non-Null Count  Dtype \n",
            "---  ------                 --------------  ----- \n",
            " 0   Posição                26 non-null     int64 \n",
            " 1   Estado                 26 non-null     object\n",
            " 2   Região                 26 non-null     object\n",
            " 3   Número de municípios   26 non-null     int64 \n",
            " 4   Habitantes por estado  26 non-null     object\n",
            " 5   Média por município    26 non-null     object\n",
            "dtypes: int64(2), object(4)\n",
            "memory usage: 1.3+ KB\n"
          ],
          "name": "stdout"
        }
      ]
    },
    {
      "cell_type": "code",
      "metadata": {
        "colab": {
          "base_uri": "https://localhost:8080/",
          "height": 300
        },
        "id": "RAvABDz-xRnH",
        "outputId": "23d14ea8-6a4f-4bf5-f6d6-f1a49ea88114"
      },
      "source": [
        "qme.describe()"
      ],
      "execution_count": null,
      "outputs": [
        {
          "output_type": "execute_result",
          "data": {
            "text/html": [
              "<div>\n",
              "<style scoped>\n",
              "    .dataframe tbody tr th:only-of-type {\n",
              "        vertical-align: middle;\n",
              "    }\n",
              "\n",
              "    .dataframe tbody tr th {\n",
              "        vertical-align: top;\n",
              "    }\n",
              "\n",
              "    .dataframe thead th {\n",
              "        text-align: right;\n",
              "    }\n",
              "</style>\n",
              "<table border=\"1\" class=\"dataframe\">\n",
              "  <thead>\n",
              "    <tr style=\"text-align: right;\">\n",
              "      <th></th>\n",
              "      <th>Posição</th>\n",
              "      <th>Número de municípios</th>\n",
              "    </tr>\n",
              "  </thead>\n",
              "  <tbody>\n",
              "    <tr>\n",
              "      <th>count</th>\n",
              "      <td>26.000000</td>\n",
              "      <td>26.000000</td>\n",
              "    </tr>\n",
              "    <tr>\n",
              "      <th>mean</th>\n",
              "      <td>13.500000</td>\n",
              "      <td>214.153846</td>\n",
              "    </tr>\n",
              "    <tr>\n",
              "      <th>std</th>\n",
              "      <td>7.648529</td>\n",
              "      <td>202.556598</td>\n",
              "    </tr>\n",
              "    <tr>\n",
              "      <th>min</th>\n",
              "      <td>1.000000</td>\n",
              "      <td>15.000000</td>\n",
              "    </tr>\n",
              "    <tr>\n",
              "      <th>25%</th>\n",
              "      <td>7.250000</td>\n",
              "      <td>78.250000</td>\n",
              "    </tr>\n",
              "    <tr>\n",
              "      <th>50%</th>\n",
              "      <td>13.500000</td>\n",
              "      <td>155.500000</td>\n",
              "    </tr>\n",
              "    <tr>\n",
              "      <th>75%</th>\n",
              "      <td>19.750000</td>\n",
              "      <td>240.500000</td>\n",
              "    </tr>\n",
              "    <tr>\n",
              "      <th>max</th>\n",
              "      <td>26.000000</td>\n",
              "      <td>853.000000</td>\n",
              "    </tr>\n",
              "  </tbody>\n",
              "</table>\n",
              "</div>"
            ],
            "text/plain": [
              "         Posição  Número de municípios\n",
              "count  26.000000             26.000000\n",
              "mean   13.500000            214.153846\n",
              "std     7.648529            202.556598\n",
              "min     1.000000             15.000000\n",
              "25%     7.250000             78.250000\n",
              "50%    13.500000            155.500000\n",
              "75%    19.750000            240.500000\n",
              "max    26.000000            853.000000"
            ]
          },
          "metadata": {
            "tags": []
          },
          "execution_count": 51
        }
      ]
    },
    {
      "cell_type": "markdown",
      "metadata": {
        "id": "NoYOdXeh41I1"
      },
      "source": [
        "**Obs. :** Corrigindo também os tipos do segundo dataframe."
      ]
    },
    {
      "cell_type": "code",
      "metadata": {
        "id": "MudpamjL4wuk"
      },
      "source": [
        "qme['Habitantes por estado'] = qme['Habitantes por estado'].apply(lambda x: (unidecode(x).replace(' ',''))).astype(int)"
      ],
      "execution_count": null,
      "outputs": []
    },
    {
      "cell_type": "code",
      "metadata": {
        "id": "oayyyHXv5dmL"
      },
      "source": [
        "qme['Média por município']=qme['Habitantes por estado']/qme['Número de municípios']"
      ],
      "execution_count": null,
      "outputs": []
    },
    {
      "cell_type": "code",
      "metadata": {
        "colab": {
          "base_uri": "https://localhost:8080/"
        },
        "id": "5qtriCbs5ME0",
        "outputId": "80eda894-baf2-4672-d7e6-a620d4f7d59f"
      },
      "source": [
        "qme['Média por município']"
      ],
      "execution_count": null,
      "outputs": [
        {
          "output_type": "execute_result",
          "data": {
            "text/plain": [
              "0      24606.399766\n",
              "1      69370.851163\n",
              "2      22717.853119\n",
              "3      36621.278177\n",
              "4      28174.598997\n",
              "5      23331.501695\n",
              "6      27195.825203\n",
              "7      14340.955357\n",
              "8      17917.224215\n",
              "9      32007.129032\n",
              "10     51114.994565\n",
              "11     48720.250000\n",
              "12     20798.000000\n",
              "13     57368.270833\n",
              "14     23418.730496\n",
              "15     11019.741007\n",
              "16     32916.607843\n",
              "17    180833.326087\n",
              "18     33933.658228\n",
              "19     50850.769231\n",
              "20     30194.746667\n",
              "21     64457.016129\n",
              "22     34350.384615\n",
              "23     37070.227273\n",
              "24     48857.062500\n",
              "25     34306.266667\n",
              "Name: Média por município, dtype: float64"
            ]
          },
          "metadata": {
            "tags": []
          },
          "execution_count": 68
        }
      ]
    },
    {
      "cell_type": "code",
      "metadata": {
        "colab": {
          "base_uri": "https://localhost:8080/",
          "height": 241
        },
        "id": "0cX5yawM-ydc",
        "outputId": "417e3eef-9af9-4d35-d58c-1e78ed918023"
      },
      "source": [
        "qme.head()"
      ],
      "execution_count": null,
      "outputs": [
        {
          "output_type": "execute_result",
          "data": {
            "text/html": [
              "<div>\n",
              "<style scoped>\n",
              "    .dataframe tbody tr th:only-of-type {\n",
              "        vertical-align: middle;\n",
              "    }\n",
              "\n",
              "    .dataframe tbody tr th {\n",
              "        vertical-align: top;\n",
              "    }\n",
              "\n",
              "    .dataframe thead th {\n",
              "        text-align: right;\n",
              "    }\n",
              "</style>\n",
              "<table border=\"1\" class=\"dataframe\">\n",
              "  <thead>\n",
              "    <tr style=\"text-align: right;\">\n",
              "      <th></th>\n",
              "      <th>Posição</th>\n",
              "      <th>Estado</th>\n",
              "      <th>Região</th>\n",
              "      <th>Número de municípios</th>\n",
              "      <th>Habitantes por estado</th>\n",
              "      <th>Média por município</th>\n",
              "    </tr>\n",
              "  </thead>\n",
              "  <tbody>\n",
              "    <tr>\n",
              "      <th>0</th>\n",
              "      <td>1</td>\n",
              "      <td>Minas Gerais</td>\n",
              "      <td>Sudeste</td>\n",
              "      <td>853</td>\n",
              "      <td>20989259</td>\n",
              "      <td>24606.399766</td>\n",
              "    </tr>\n",
              "    <tr>\n",
              "      <th>1</th>\n",
              "      <td>2</td>\n",
              "      <td>São Paulo</td>\n",
              "      <td>Sudeste</td>\n",
              "      <td>645</td>\n",
              "      <td>44744199</td>\n",
              "      <td>69370.851163</td>\n",
              "    </tr>\n",
              "    <tr>\n",
              "      <th>2</th>\n",
              "      <td>3</td>\n",
              "      <td>Rio Grande do Sul</td>\n",
              "      <td>Sul</td>\n",
              "      <td>497</td>\n",
              "      <td>11290773</td>\n",
              "      <td>22717.853119</td>\n",
              "    </tr>\n",
              "    <tr>\n",
              "      <th>3</th>\n",
              "      <td>4</td>\n",
              "      <td>Bahia</td>\n",
              "      <td>Nordeste</td>\n",
              "      <td>417</td>\n",
              "      <td>15271073</td>\n",
              "      <td>36621.278177</td>\n",
              "    </tr>\n",
              "    <tr>\n",
              "      <th>4</th>\n",
              "      <td>5</td>\n",
              "      <td>Paraná</td>\n",
              "      <td>Sul</td>\n",
              "      <td>399</td>\n",
              "      <td>11241665</td>\n",
              "      <td>28174.598997</td>\n",
              "    </tr>\n",
              "  </tbody>\n",
              "</table>\n",
              "</div>"
            ],
            "text/plain": [
              "   Posição             Estado  ... Habitantes por estado  Média por município\n",
              "0        1       Minas Gerais  ...              20989259         24606.399766\n",
              "1        2          São Paulo  ...              44744199         69370.851163\n",
              "2        3  Rio Grande do Sul  ...              11290773         22717.853119\n",
              "3        4              Bahia  ...              15271073         36621.278177\n",
              "4        5             Paraná  ...              11241665         28174.598997\n",
              "\n",
              "[5 rows x 6 columns]"
            ]
          },
          "metadata": {
            "tags": []
          },
          "execution_count": 69
        }
      ]
    },
    {
      "cell_type": "code",
      "metadata": {
        "colab": {
          "base_uri": "https://localhost:8080/"
        },
        "id": "6X_mIKB7-32C",
        "outputId": "dbae96a9-eb4f-419d-e202-b08234ae0673"
      },
      "source": [
        "qme.info()"
      ],
      "execution_count": null,
      "outputs": [
        {
          "output_type": "stream",
          "text": [
            "<class 'pandas.core.frame.DataFrame'>\n",
            "RangeIndex: 26 entries, 0 to 25\n",
            "Data columns (total 6 columns):\n",
            " #   Column                 Non-Null Count  Dtype  \n",
            "---  ------                 --------------  -----  \n",
            " 0   Posição                26 non-null     int64  \n",
            " 1   Estado                 26 non-null     object \n",
            " 2   Região                 26 non-null     object \n",
            " 3   Número de municípios   26 non-null     int64  \n",
            " 4   Habitantes por estado  26 non-null     int64  \n",
            " 5   Média por município    26 non-null     float64\n",
            "dtypes: float64(1), int64(3), object(2)\n",
            "memory usage: 1.3+ KB\n"
          ],
          "name": "stdout"
        }
      ]
    },
    {
      "cell_type": "code",
      "metadata": {
        "colab": {
          "base_uri": "https://localhost:8080/",
          "height": 300
        },
        "id": "GVwbdIHs-53y",
        "outputId": "5fff62ba-7fe0-4773-d626-09d2c5d863f6"
      },
      "source": [
        "qme.describe()"
      ],
      "execution_count": null,
      "outputs": [
        {
          "output_type": "execute_result",
          "data": {
            "text/html": [
              "<div>\n",
              "<style scoped>\n",
              "    .dataframe tbody tr th:only-of-type {\n",
              "        vertical-align: middle;\n",
              "    }\n",
              "\n",
              "    .dataframe tbody tr th {\n",
              "        vertical-align: top;\n",
              "    }\n",
              "\n",
              "    .dataframe thead th {\n",
              "        text-align: right;\n",
              "    }\n",
              "</style>\n",
              "<table border=\"1\" class=\"dataframe\">\n",
              "  <thead>\n",
              "    <tr style=\"text-align: right;\">\n",
              "      <th></th>\n",
              "      <th>Posição</th>\n",
              "      <th>Número de municípios</th>\n",
              "      <th>Habitantes por estado</th>\n",
              "      <th>Média por município</th>\n",
              "    </tr>\n",
              "  </thead>\n",
              "  <tbody>\n",
              "    <tr>\n",
              "      <th>count</th>\n",
              "      <td>26.000000</td>\n",
              "      <td>26.000000</td>\n",
              "      <td>2.600000e+01</td>\n",
              "      <td>26.000000</td>\n",
              "    </tr>\n",
              "    <tr>\n",
              "      <th>mean</th>\n",
              "      <td>13.500000</td>\n",
              "      <td>214.153846</td>\n",
              "      <td>7.807748e+06</td>\n",
              "      <td>40634.371879</td>\n",
              "    </tr>\n",
              "    <tr>\n",
              "      <th>std</th>\n",
              "      <td>7.648529</td>\n",
              "      <td>202.556598</td>\n",
              "      <td>9.188045e+06</td>\n",
              "      <td>32286.177999</td>\n",
              "    </tr>\n",
              "    <tr>\n",
              "      <th>min</th>\n",
              "      <td>1.000000</td>\n",
              "      <td>15.000000</td>\n",
              "      <td>5.145940e+05</td>\n",
              "      <td>11019.741007</td>\n",
              "    </tr>\n",
              "    <tr>\n",
              "      <th>25%</th>\n",
              "      <td>7.250000</td>\n",
              "      <td>78.250000</td>\n",
              "      <td>2.813663e+06</td>\n",
              "      <td>23715.647814</td>\n",
              "    </tr>\n",
              "    <tr>\n",
              "      <th>50%</th>\n",
              "      <td>13.500000</td>\n",
              "      <td>155.500000</td>\n",
              "      <td>3.995938e+06</td>\n",
              "      <td>33425.133035</td>\n",
              "    </tr>\n",
              "    <tr>\n",
              "      <th>75%</th>\n",
              "      <td>19.750000</td>\n",
              "      <td>240.500000</td>\n",
              "      <td>9.295001e+06</td>\n",
              "      <td>48822.859375</td>\n",
              "    </tr>\n",
              "    <tr>\n",
              "      <th>max</th>\n",
              "      <td>26.000000</td>\n",
              "      <td>853.000000</td>\n",
              "      <td>4.474420e+07</td>\n",
              "      <td>180833.326087</td>\n",
              "    </tr>\n",
              "  </tbody>\n",
              "</table>\n",
              "</div>"
            ],
            "text/plain": [
              "         Posição  ...  Média por município\n",
              "count  26.000000  ...            26.000000\n",
              "mean   13.500000  ...         40634.371879\n",
              "std     7.648529  ...         32286.177999\n",
              "min     1.000000  ...         11019.741007\n",
              "25%     7.250000  ...         23715.647814\n",
              "50%    13.500000  ...         33425.133035\n",
              "75%    19.750000  ...         48822.859375\n",
              "max    26.000000  ...        180833.326087\n",
              "\n",
              "[8 rows x 4 columns]"
            ]
          },
          "metadata": {
            "tags": []
          },
          "execution_count": 71
        }
      ]
    },
    {
      "cell_type": "markdown",
      "metadata": {
        "id": "JE6k-Ohk_Tqx"
      },
      "source": [
        "# **Visualização dos dados**"
      ]
    },
    {
      "cell_type": "code",
      "metadata": {
        "id": "1nEn1LdsU96H"
      },
      "source": [
        "import seaborn as sns\n",
        "import matplotlib.pyplot as plt"
      ],
      "execution_count": null,
      "outputs": []
    },
    {
      "cell_type": "code",
      "metadata": {
        "colab": {
          "base_uri": "https://localhost:8080/",
          "height": 266
        },
        "id": "kL7lhubaBQv4",
        "outputId": "a3dba5f9-8284-49b8-fb68-7462b012bf35"
      },
      "source": [
        "#Quantidade de estados em cada região\n",
        "cores = ['#7FFFD4', '#FA8072', '#00BFFF', '#FFDEAD', '#DDA0DD']\n",
        "\n",
        "plt.pie(qhr['Unidadesfederativas'], labels=qhr['Unidadesfederativas'],shadow=True, explode=(0.05,0.05,0.05,0.05,0.05), colors=cores)\n",
        "plt.legend(qhr['Região'], title='Região', bbox_to_anchor=(1, 1))\n",
        "plt.title('Quantidades de estados por região', weight = 'bold', size=15)\n",
        "plt.show()"
      ],
      "execution_count": null,
      "outputs": [
        {
          "output_type": "display_data",
          "data": {
            "image/png": "[encoded data removed]",
            "text/plain": [
              "<Figure size 432x288 with 1 Axes>"
            ]
          },
          "metadata": {
            "tags": []
          }
        }
      ]
    },
    {
      "cell_type": "code",
      "metadata": {
        "colab": {
          "base_uri": "https://localhost:8080/",
          "height": 370
        },
        "id": "1SKtAJ8dDttK",
        "outputId": "4b5113db-75e2-465b-96e4-4753663eb456"
      },
      "source": [
        "#Número de municipios por região\n",
        "\n",
        "plt.subplots(figsize=(7, 5))\n",
        "sns.barplot(x=qhr['Região'], y=qhr['Municípios'], palette='Set2')\n",
        "\n",
        "plt.title('Número de municípios por regiões', weight = 'bold', size=15)\n",
        "plt.xlabel('Região')\n",
        "plt.ylabel('Número de municípios')"
      ],
      "execution_count": null,
      "outputs": [
        {
          "output_type": "execute_result",
          "data": {
            "text/plain": [
              "Text(0, 0.5, 'Número de municípios')"
            ]
          },
          "metadata": {
            "tags": []
          },
          "execution_count": 83
        },
        {
          "output_type": "display_data",
          "data": {
            "image/png": "[encoded data removed]",
            "text/plain": [
              "<Figure size 504x360 with 1 Axes>"
            ]
          },
          "metadata": {
            "tags": [],
            "needs_background": "light"
          }
        }
      ]
    },
    {
      "cell_type": "code",
      "metadata": {
        "colab": {
          "base_uri": "https://localhost:8080/",
          "height": 479
        },
        "id": "SoyHejIlVQ5f",
        "outputId": "5d1b2e8c-919f-4474-d269-5103dcaaaeb6"
      },
      "source": [
        "#Número de municipios por estado\n",
        "\n",
        "plt.subplots(figsize=(10, 7))\n",
        "sns.barplot(x=qme['Número de municípios'], y=qme['Estado'], palette='Set2')\n",
        "\n",
        "plt.title('Estados com maior número de municípios', weight = 'bold', size=15)\n",
        "plt.ylabel('Estado')\n",
        "plt.xlabel('Número de municípios')"
      ],
      "execution_count": null,
      "outputs": [
        {
          "output_type": "execute_result",
          "data": {
            "text/plain": [
              "Text(0.5, 0, 'Número de municípios')"
            ]
          },
          "metadata": {
            "tags": []
          },
          "execution_count": 84
        },
        {
          "output_type": "display_data",
          "data": {
            "image/png": "[encoded data removed]",
            "text/plain": [
              "<Figure size 720x504 with 1 Axes>"
            ]
          },
          "metadata": {
            "tags": [],
            "needs_background": "light"
          }
        }
      ]
    },
    {
      "cell_type": "code",
      "metadata": {
        "id": "sIuWLY-CSQTu"
      },
      "source": [
        "def regiao_plot(select_r):\n",
        "    if (select_r == 'Sul'):\n",
        "        regiao = qme.query('Região == \"Sul\"')\n",
        "        regiao2 = qhr.query('Região == \"Sul\"')\n",
        "    if (select_r == 'Sudeste'):\n",
        "        regiao = qme.query('Região == \"Sudeste\"')\n",
        "        regiao2 = qhr.query('Região == \"Sudeste\"')\n",
        "    if (select_r == 'Norte'):\n",
        "        regiao = qme.query('Região == \"Norte\"')\n",
        "        regiao2 = qhr.query('Região == \"Norte\"')\n",
        "    if (select_r == 'Nordeste'):\n",
        "        regiao = qme.query('Região == \"Nordeste\"')\n",
        "        regiao2 = qhr.query('Região == \"Nordeste\"')\n",
        "    if (select_r == 'Centro-Oeste'):\n",
        "        regiao = qme.query('Região == \"Centro-Oeste\"')\n",
        "        regiao2 = qhr.query('Região == \"Centro-Oeste\"')\n",
        "    \n",
        "    #Numero de estados\n",
        "    num_estados = regiao2['Unidadesfederativas'].values\n",
        "    print('Numero de estados: ', num_estados)\n",
        "\n",
        "    #Estados\n",
        "    estados = regiao['Estado'].values\n",
        "    print('Estados: ', estados)\n",
        "\n",
        "    #Numero de municipios da regiao\n",
        "    num_municipios = regiao2['Municípios'].values\n",
        "    porcentagem = regiao2['Porcentagem'].values\n",
        "    print('Numero de municipios da regiao: ', num_municipios)\n",
        "    print('Porcentagem: ', porcentagem)\n",
        "    \n",
        "    #Numero de habitantes da regiao\n",
        "    hab_regiao = regiao['Habitantes por estado'].sum()\n",
        "    print('Hbitantes da região: ', hab_regiao)\n",
        "\n",
        "    #Numero de municipios por estado\n",
        "    sns.barplot(x=regiao['Número de municípios'], y=regiao['Estado'], palette='Set2')\n",
        "\n",
        "    plt.title('Número de municípios por estado', weight = 'bold', size=15)\n",
        "    plt.ylabel('Estado')\n",
        "    plt.xlabel('Número de municípios')\n",
        "    plt.show()\n",
        "\n",
        "    #Numero de habitantes por estado\n",
        "    sns.barplot(x=regiao['Habitantes por estado'], y=regiao['Estado'], palette='Set2')\n",
        "\n",
        "    plt.title('Número de habitantes por estado', weight = 'bold', size=15)\n",
        "    plt.ylabel('Estado')\n",
        "    plt.xlabel('Habitantes por estado')\n",
        "    plt.show()\n",
        "    "
      ],
      "execution_count": null,
      "outputs": []
    },
    {
      "cell_type": "code",
      "metadata": {
        "colab": {
          "base_uri": "https://localhost:8080/",
          "height": 667
        },
        "id": "7fDH7tpjTeRq",
        "outputId": "f4961e50-ef30-4c17-cd1b-143d3ba92376"
      },
      "source": [
        "regiao_plot('Norte')"
      ],
      "execution_count": null,
      "outputs": [
        {
          "output_type": "stream",
          "text": [
            "Numero de estados:  [7]\n",
            "Estados:  ['Pará' 'Tocantins' 'Amazonas' 'Rondônia' 'Acre' 'Amapá' 'Roraima']\n",
            "Numero de municipios da regiao:  [450]\n",
            "Porcentagem:  ['8,08%']\n",
            "Hbitantes da região:  17687182\n"
          ],
          "name": "stdout"
        },
        {
          "output_type": "display_data",
          "data": {
            "image/png": "[encoded data removed]",
            "text/plain": [
              "<Figure size 432x288 with 1 Axes>"
            ]
          },
          "metadata": {
            "tags": [],
            "needs_background": "light"
          }
        },
        {
          "output_type": "display_data",
          "data": {
            "image/png": "[encoded data removed]",
            "text/plain": [
              "<Figure size 432x288 with 1 Axes>"
            ]
          },
          "metadata": {
            "tags": [],
            "needs_background": "light"
          }
        }
      ]
    },
    {
      "cell_type": "code",
      "metadata": {
        "colab": {
          "base_uri": "https://localhost:8080/",
          "height": 667
        },
        "id": "0yHEDJvfVEX6",
        "outputId": "d6780a88-bffb-401a-f8f0-39fe74331f02"
      },
      "source": [
        "regiao_plot('Sudeste')"
      ],
      "execution_count": null,
      "outputs": [
        {
          "output_type": "stream",
          "text": [
            "Numero de estados:  [4]\n",
            "Estados:  ['Minas Gerais' 'São Paulo' 'Rio de Janeiro' 'Espírito Santo']\n",
            "Numero de municipios da regiao:  [1668]\n",
            "Porcentagem:  ['29,95%']\n",
            "Hbitantes da região:  86336484\n"
          ],
          "name": "stdout"
        },
        {
          "output_type": "display_data",
          "data": {
            "image/png": "[encoded data removed]",
            "text/plain": [
              "<Figure size 432x288 with 1 Axes>"
            ]
          },
          "metadata": {
            "tags": [],
            "needs_background": "light"
          }
        },
        {
          "output_type": "display_data",
          "data": {
            "image/png": "[encoded data removed]",
            "text/plain": [
              "<Figure size 432x288 with 1 Axes>"
            ]
          },
          "metadata": {
            "tags": [],
            "needs_background": "light"
          }
        }
      ]
    },
    {
      "cell_type": "code",
      "metadata": {
        "colab": {
          "base_uri": "https://localhost:8080/",
          "height": 667
        },
        "id": "19qmnmOS_KKg",
        "outputId": "0501ad28-5da1-48c1-a9b4-9de108de64d0"
      },
      "source": [
        "regiao_plot('Sul')"
      ],
      "execution_count": null,
      "outputs": [
        {
          "output_type": "stream",
          "text": [
            "Numero de estados:  [3]\n",
            "Estados:  ['Rio Grande do Sul' 'Paraná' 'Santa Catarina']\n",
            "Numero de municipios da regiao:  [1191]\n",
            "Porcentagem:  ['21,39%']\n",
            "Hbitantes da região:  29415231\n"
          ],
          "name": "stdout"
        },
        {
          "output_type": "display_data",
          "data": {
            "image/png": "[encoded data removed]",
            "text/plain": [
              "<Figure size 432x288 with 1 Axes>"
            ]
          },
          "metadata": {
            "tags": [],
            "needs_background": "light"
          }
        },
        {
          "output_type": "display_data",
          "data": {
            "image/png": "[encoded data removed]",
            "text/plain": [
              "<Figure size 432x288 with 1 Axes>"
            ]
          },
          "metadata": {
            "tags": [],
            "needs_background": "light"
          }
        }
      ]
    },
    {
      "cell_type": "code",
      "metadata": {
        "colab": {
          "base_uri": "https://localhost:8080/",
          "height": 684
        },
        "id": "oq4_RixR_WYz",
        "outputId": "58ac6155-87d5-4a90-b61f-130ef91f06ff"
      },
      "source": [
        "regiao_plot('Nordeste')"
      ],
      "execution_count": null,
      "outputs": [
        {
          "output_type": "stream",
          "text": [
            "Numero de estados:  [9]\n",
            "Estados:  ['Bahia' 'Piauí' 'Paraíba' 'Maranhão' 'Pernambuco' 'Ceará'\n",
            " 'Rio Grande do Norte' 'Alagoas' 'Sergipe']\n",
            "Numero de municipios da regiao:  [1793]\n",
            "Porcentagem:  ['32,21%']\n",
            "Hbitantes da região:  56889586\n"
          ],
          "name": "stdout"
        },
        {
          "output_type": "display_data",
          "data": {
            "image/png": "[encoded data removed]",
            "text/plain": [
              "<Figure size 432x288 with 1 Axes>"
            ]
          },
          "metadata": {
            "tags": [],
            "needs_background": "light"
          }
        },
        {
          "output_type": "display_data",
          "data": {
            "image/png": "[encoded data removed]",
            "text/plain": [
              "<Figure size 432x288 with 1 Axes>"
            ]
          },
          "metadata": {
            "tags": [],
            "needs_background": "light"
          }
        }
      ]
    },
    {
      "cell_type": "code",
      "metadata": {
        "colab": {
          "base_uri": "https://localhost:8080/",
          "height": 667
        },
        "id": "2tiT2ifh_7Ff",
        "outputId": "507066df-2433-4224-9a72-e0d87882d042"
      },
      "source": [
        "regiao_plot('Centro-Oeste')"
      ],
      "execution_count": null,
      "outputs": [
        {
          "output_type": "stream",
          "text": [
            "Numero de estados:  [4]\n",
            "Estados:  ['Goiás' 'Mato Grosso' 'Mato Grosso do Sul']\n",
            "Numero de municipios da regiao:  [466]\n",
            "Porcentagem:  ['8,37%']\n",
            "Hbitantes da região:  12672973\n"
          ],
          "name": "stdout"
        },
        {
          "output_type": "display_data",
          "data": {
            "image/png": "[encoded data removed]",
            "text/plain": [
              "<Figure size 432x288 with 1 Axes>"
            ]
          },
          "metadata": {
            "tags": [],
            "needs_background": "light"
          }
        },
        {
          "output_type": "display_data",
          "data": {
            "image/png": "[encoded data removed]",
            "text/plain": [
              "<Figure size 432x288 with 1 Axes>"
            ]
          },
          "metadata": {
            "tags": [],
            "needs_background": "light"
          }
        }
      ]
    }
  ]
}