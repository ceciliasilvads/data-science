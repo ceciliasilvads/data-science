{
  "cells": [
    {
      "cell_type": "markdown",
      "metadata": {
        "id": "TIHHcCrXpZo0"
      },
      "source": [
        "# Análise do Excesso de Morte por Covid-19 na América Latina\n"
      ]
    },
    {
      "cell_type": "markdown",
      "metadata": {
        "id": "zHyVTCSCqPRc"
      },
      "source": [
        "## Introdução"
      ]
    },
    {
      "cell_type": "markdown",
      "metadata": {
        "id": "2L6o5Pj-qUqq"
      },
      "source": [
        "## Descrição dos dados"
      ]
    },
    {
      "cell_type": "markdown",
      "metadata": {
        "id": "vnwCfHDqqYJA"
      },
      "source": [
        "## Objetivos"
      ]
    },
    {
      "cell_type": "markdown",
      "metadata": {
        "id": "c8Ul2QVnqay-"
      },
      "source": [
        "## Análise exploratoria\n"
      ]
    },
    {
      "cell_type": "markdown",
      "metadata": {
        "id": "0SOqpUDvqdEL"
      },
      "source": [
        "## Resultados"
      ]
    }
  ],
  "metadata": {
    "colab": {
      "provenance": []
    },
    "kernelspec": {
      "display_name": "Python 3",
      "name": "python3"
    },
    "language_info": {
      "name": "python"
    }
  },
  "nbformat": 4,
  "nbformat_minor": 0
}
