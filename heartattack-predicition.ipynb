{
 "cells": [
  {
   "cell_type": "markdown",
   "id": "cac97314",
   "metadata": {
    "id": "SCScweHqexFk",
    "papermill": {
     "duration": 0.054031,
     "end_time": "2022-02-04T16:06:33.748410",
     "exception": false,
     "start_time": "2022-02-04T16:06:33.694379",
     "status": "completed"
    },
    "tags": []
   },
   "source": [
    "# **Health care: possibility of heart attack**\n",
    "![](https://external-content.duckduckgo.com/iu/?u=https%3A%2F%2Ftse1.mm.bing.net%2Fth%3Fid%3DOIP.D3egHsbv7BywfW-1zAXA-AHaDe%26pid%3DApi&f=1)\n",
    "\n",
    "\n",
    "## **Goals**\n",
    "\n",
    "- EDA Exploratory Data Dnalysis;\n",
    "- Machine learning solution for predicting the chances of heart attack in individuals."
   ]
  },
  {
   "cell_type": "markdown",
   "id": "b1c8de81",
   "metadata": {
    "id": "0VBGraYybCmA",
    "papermill": {
     "duration": 0.051219,
     "end_time": "2022-02-04T16:06:33.854520",
     "exception": false,
     "start_time": "2022-02-04T16:06:33.803301",
     "status": "completed"
    },
    "tags": []
   },
   "source": [
    "# **Importações iniciais**"
   ]
  },
  {
   "cell_type": "code",
   "execution_count": 1,
   "id": "8a25131d",
   "metadata": {
    "execution": {
     "iopub.execute_input": "2022-02-04T16:06:33.973835Z",
     "iopub.status.busy": "2022-02-04T16:06:33.973171Z",
     "iopub.status.idle": "2022-02-04T16:06:35.327496Z",
     "shell.execute_reply": "2022-02-04T16:06:35.326665Z",
     "shell.execute_reply.started": "2022-02-04T16:03:20.867817Z"
    },
    "id": "3lIelJnDeW1t",
    "papermill": {
     "duration": 1.420014,
     "end_time": "2022-02-04T16:06:35.327698",
     "exception": false,
     "start_time": "2022-02-04T16:06:33.907684",
     "status": "completed"
    },
    "tags": []
   },
   "outputs": [],
   "source": [
    "import pandas as pd\n",
    "import numpy as np\n",
    "import matplotlib.pyplot as plt\n",
    "import seaborn as sns\n",
    "from sklearn.linear_model import LogisticRegression\n",
    "\n",
    "sns.set()"
   ]
  },
  {
   "cell_type": "markdown",
   "id": "242ce9a0",
   "metadata": {
    "id": "9ZiFAGQLn9x6",
    "papermill": {
     "duration": 0.051491,
     "end_time": "2022-02-04T16:06:35.434379",
     "exception": false,
     "start_time": "2022-02-04T16:06:35.382888",
     "status": "completed"
    },
    "tags": []
   },
   "source": [
    "# **Data loading and exploration**"
   ]
  },
  {
   "cell_type": "code",
   "execution_count": 2,
   "id": "0de106aa",
   "metadata": {
    "execution": {
     "iopub.execute_input": "2022-02-04T16:06:35.542815Z",
     "iopub.status.busy": "2022-02-04T16:06:35.541672Z",
     "iopub.status.idle": "2022-02-04T16:06:35.933245Z",
     "shell.execute_reply": "2022-02-04T16:06:35.932495Z",
     "shell.execute_reply.started": "2022-02-04T16:03:20.875866Z"
    },
    "id": "8Wbm1fO4nn8g",
    "papermill": {
     "duration": 0.447254,
     "end_time": "2022-02-04T16:06:35.933423",
     "exception": false,
     "start_time": "2022-02-04T16:06:35.486169",
     "status": "completed"
    },
    "tags": []
   },
   "outputs": [],
   "source": [
    "data_heart = pd.read_csv('https://raw.githubusercontent.com/ceciliasilvads/portifolio/main/ML-Chances%20de%20Ataque%20Card%C3%ADaco/heart.csv')"
   ]
  },
  {
   "cell_type": "code",
   "execution_count": 3,
   "id": "66fe703a",
   "metadata": {
    "execution": {
     "iopub.execute_input": "2022-02-04T16:06:36.047594Z",
     "iopub.status.busy": "2022-02-04T16:06:36.046758Z",
     "iopub.status.idle": "2022-02-04T16:06:36.066675Z",
     "shell.execute_reply": "2022-02-04T16:06:36.067247Z",
     "shell.execute_reply.started": "2022-02-04T16:03:21.057032Z"
    },
    "id": "hHUJxSTqnzxR",
    "outputId": "7be9375f-8a4e-4f46-f209-bbefb833afcf",
    "papermill": {
     "duration": 0.082241,
     "end_time": "2022-02-04T16:06:36.067467",
     "exception": false,
     "start_time": "2022-02-04T16:06:35.985226",
     "status": "completed"
    },
    "tags": []
   },
   "outputs": [
    {
     "data": {
      "text/html": [
       "<div>\n",
       "<style scoped>\n",
       "    .dataframe tbody tr th:only-of-type {\n",
       "        vertical-align: middle;\n",
       "    }\n",
       "\n",
       "    .dataframe tbody tr th {\n",
       "        vertical-align: top;\n",
       "    }\n",
       "\n",
       "    .dataframe thead th {\n",
       "        text-align: right;\n",
       "    }\n",
       "</style>\n",
       "<table border=\"1\" class=\"dataframe\">\n",
       "  <thead>\n",
       "    <tr style=\"text-align: right;\">\n",
       "      <th></th>\n",
       "      <th>age</th>\n",
       "      <th>sex</th>\n",
       "      <th>cp</th>\n",
       "      <th>trestbps</th>\n",
       "      <th>chol</th>\n",
       "      <th>fbs</th>\n",
       "      <th>restecg</th>\n",
       "      <th>thalach</th>\n",
       "      <th>exang</th>\n",
       "      <th>oldpeak</th>\n",
       "      <th>slope</th>\n",
       "      <th>ca</th>\n",
       "      <th>thal</th>\n",
       "      <th>target</th>\n",
       "    </tr>\n",
       "  </thead>\n",
       "  <tbody>\n",
       "    <tr>\n",
       "      <th>0</th>\n",
       "      <td>63</td>\n",
       "      <td>1</td>\n",
       "      <td>3</td>\n",
       "      <td>145</td>\n",
       "      <td>233</td>\n",
       "      <td>1</td>\n",
       "      <td>0</td>\n",
       "      <td>150</td>\n",
       "      <td>0</td>\n",
       "      <td>2.3</td>\n",
       "      <td>0</td>\n",
       "      <td>0</td>\n",
       "      <td>1</td>\n",
       "      <td>1</td>\n",
       "    </tr>\n",
       "    <tr>\n",
       "      <th>1</th>\n",
       "      <td>37</td>\n",
       "      <td>1</td>\n",
       "      <td>2</td>\n",
       "      <td>130</td>\n",
       "      <td>250</td>\n",
       "      <td>0</td>\n",
       "      <td>1</td>\n",
       "      <td>187</td>\n",
       "      <td>0</td>\n",
       "      <td>3.5</td>\n",
       "      <td>0</td>\n",
       "      <td>0</td>\n",
       "      <td>2</td>\n",
       "      <td>1</td>\n",
       "    </tr>\n",
       "    <tr>\n",
       "      <th>2</th>\n",
       "      <td>41</td>\n",
       "      <td>0</td>\n",
       "      <td>1</td>\n",
       "      <td>130</td>\n",
       "      <td>204</td>\n",
       "      <td>0</td>\n",
       "      <td>0</td>\n",
       "      <td>172</td>\n",
       "      <td>0</td>\n",
       "      <td>1.4</td>\n",
       "      <td>2</td>\n",
       "      <td>0</td>\n",
       "      <td>2</td>\n",
       "      <td>1</td>\n",
       "    </tr>\n",
       "    <tr>\n",
       "      <th>3</th>\n",
       "      <td>56</td>\n",
       "      <td>1</td>\n",
       "      <td>1</td>\n",
       "      <td>120</td>\n",
       "      <td>236</td>\n",
       "      <td>0</td>\n",
       "      <td>1</td>\n",
       "      <td>178</td>\n",
       "      <td>0</td>\n",
       "      <td>0.8</td>\n",
       "      <td>2</td>\n",
       "      <td>0</td>\n",
       "      <td>2</td>\n",
       "      <td>1</td>\n",
       "    </tr>\n",
       "    <tr>\n",
       "      <th>4</th>\n",
       "      <td>57</td>\n",
       "      <td>0</td>\n",
       "      <td>0</td>\n",
       "      <td>120</td>\n",
       "      <td>354</td>\n",
       "      <td>0</td>\n",
       "      <td>1</td>\n",
       "      <td>163</td>\n",
       "      <td>1</td>\n",
       "      <td>0.6</td>\n",
       "      <td>2</td>\n",
       "      <td>0</td>\n",
       "      <td>2</td>\n",
       "      <td>1</td>\n",
       "    </tr>\n",
       "  </tbody>\n",
       "</table>\n",
       "</div>"
      ],
      "text/plain": [
       "   age  sex  cp  trestbps  chol  fbs  restecg  thalach  exang  oldpeak  slope  \\\n",
       "0   63    1   3       145   233    1        0      150      0      2.3      0   \n",
       "1   37    1   2       130   250    0        1      187      0      3.5      0   \n",
       "2   41    0   1       130   204    0        0      172      0      1.4      2   \n",
       "3   56    1   1       120   236    0        1      178      0      0.8      2   \n",
       "4   57    0   0       120   354    0        1      163      1      0.6      2   \n",
       "\n",
       "   ca  thal  target  \n",
       "0   0     1       1  \n",
       "1   0     2       1  \n",
       "2   0     2       1  \n",
       "3   0     2       1  \n",
       "4   0     2       1  "
      ]
     },
     "execution_count": 3,
     "metadata": {},
     "output_type": "execute_result"
    }
   ],
   "source": [
    "data_heart.head()"
   ]
  },
  {
   "cell_type": "code",
   "execution_count": 4,
   "id": "d384a552",
   "metadata": {
    "execution": {
     "iopub.execute_input": "2022-02-04T16:06:36.182002Z",
     "iopub.status.busy": "2022-02-04T16:06:36.181164Z",
     "iopub.status.idle": "2022-02-04T16:06:36.203504Z",
     "shell.execute_reply": "2022-02-04T16:06:36.204043Z",
     "shell.execute_reply.started": "2022-02-04T16:03:21.075094Z"
    },
    "id": "O9aF-4sjB_00",
    "outputId": "cb1d1bd4-75e0-475b-aef1-65fe4d6eedcb",
    "papermill": {
     "duration": 0.083582,
     "end_time": "2022-02-04T16:06:36.204254",
     "exception": false,
     "start_time": "2022-02-04T16:06:36.120672",
     "status": "completed"
    },
    "tags": []
   },
   "outputs": [
    {
     "name": "stdout",
     "output_type": "stream",
     "text": [
      "<class 'pandas.core.frame.DataFrame'>\n",
      "RangeIndex: 303 entries, 0 to 302\n",
      "Data columns (total 14 columns):\n",
      " #   Column    Non-Null Count  Dtype  \n",
      "---  ------    --------------  -----  \n",
      " 0   age       303 non-null    int64  \n",
      " 1   sex       303 non-null    int64  \n",
      " 2   cp        303 non-null    int64  \n",
      " 3   trestbps  303 non-null    int64  \n",
      " 4   chol      303 non-null    int64  \n",
      " 5   fbs       303 non-null    int64  \n",
      " 6   restecg   303 non-null    int64  \n",
      " 7   thalach   303 non-null    int64  \n",
      " 8   exang     303 non-null    int64  \n",
      " 9   oldpeak   303 non-null    float64\n",
      " 10  slope     303 non-null    int64  \n",
      " 11  ca        303 non-null    int64  \n",
      " 12  thal      303 non-null    int64  \n",
      " 13  target    303 non-null    int64  \n",
      "dtypes: float64(1), int64(13)\n",
      "memory usage: 33.3 KB\n"
     ]
    }
   ],
   "source": [
    "data_heart.info()"
   ]
  },
  {
   "cell_type": "code",
   "execution_count": 5,
   "id": "3c87872d",
   "metadata": {
    "execution": {
     "iopub.execute_input": "2022-02-04T16:06:36.316126Z",
     "iopub.status.busy": "2022-02-04T16:06:36.315323Z",
     "iopub.status.idle": "2022-02-04T16:06:36.322608Z",
     "shell.execute_reply": "2022-02-04T16:06:36.323246Z",
     "shell.execute_reply.started": "2022-02-04T16:03:21.097080Z"
    },
    "id": "NAYG3lqrjqRG",
    "outputId": "4ff19cdd-edc3-424f-d20c-1d1184b45de0",
    "papermill": {
     "duration": 0.065161,
     "end_time": "2022-02-04T16:06:36.323461",
     "exception": false,
     "start_time": "2022-02-04T16:06:36.258300",
     "status": "completed"
    },
    "tags": []
   },
   "outputs": [
    {
     "data": {
      "text/plain": [
       "age         0\n",
       "sex         0\n",
       "cp          0\n",
       "trestbps    0\n",
       "chol        0\n",
       "fbs         0\n",
       "restecg     0\n",
       "thalach     0\n",
       "exang       0\n",
       "oldpeak     0\n",
       "slope       0\n",
       "ca          0\n",
       "thal        0\n",
       "target      0\n",
       "dtype: int64"
      ]
     },
     "execution_count": 5,
     "metadata": {},
     "output_type": "execute_result"
    }
   ],
   "source": [
    "data_heart.isnull().sum()"
   ]
  },
  {
   "cell_type": "code",
   "execution_count": 6,
   "id": "c41009c2",
   "metadata": {
    "execution": {
     "iopub.execute_input": "2022-02-04T16:06:36.436307Z",
     "iopub.status.busy": "2022-02-04T16:06:36.435581Z",
     "iopub.status.idle": "2022-02-04T16:06:36.447498Z",
     "shell.execute_reply": "2022-02-04T16:06:36.448132Z",
     "shell.execute_reply.started": "2022-02-04T16:03:21.116580Z"
    },
    "id": "EV2JY2z-6tc9",
    "outputId": "2ec9232d-46be-41ed-86f2-1d00705a64a2",
    "papermill": {
     "duration": 0.070944,
     "end_time": "2022-02-04T16:06:36.448343",
     "exception": false,
     "start_time": "2022-02-04T16:06:36.377399",
     "status": "completed"
    },
    "tags": []
   },
   "outputs": [
    {
     "data": {
      "text/plain": [
       "1"
      ]
     },
     "execution_count": 6,
     "metadata": {},
     "output_type": "execute_result"
    }
   ],
   "source": [
    "data_heart.duplicated().sum()"
   ]
  },
  {
   "cell_type": "code",
   "execution_count": 7,
   "id": "285eba07",
   "metadata": {
    "execution": {
     "iopub.execute_input": "2022-02-04T16:06:36.560232Z",
     "iopub.status.busy": "2022-02-04T16:06:36.559557Z",
     "iopub.status.idle": "2022-02-04T16:06:36.568755Z",
     "shell.execute_reply": "2022-02-04T16:06:36.569343Z",
     "shell.execute_reply.started": "2022-02-04T16:03:21.134418Z"
    },
    "id": "T6NTRuG961dE",
    "papermill": {
     "duration": 0.066149,
     "end_time": "2022-02-04T16:06:36.569544",
     "exception": false,
     "start_time": "2022-02-04T16:06:36.503395",
     "status": "completed"
    },
    "tags": []
   },
   "outputs": [],
   "source": [
    "data_heart.drop_duplicates(inplace=True)"
   ]
  },
  {
   "cell_type": "code",
   "execution_count": 8,
   "id": "905fb0f1",
   "metadata": {
    "execution": {
     "iopub.execute_input": "2022-02-04T16:06:36.680087Z",
     "iopub.status.busy": "2022-02-04T16:06:36.679358Z",
     "iopub.status.idle": "2022-02-04T16:06:36.731426Z",
     "shell.execute_reply": "2022-02-04T16:06:36.730862Z",
     "shell.execute_reply.started": "2022-02-04T16:03:21.151494Z"
    },
    "id": "sVWx1tQSCWCj",
    "outputId": "b06a56f6-bc63-4bda-9a5a-d5d7a8dcdf02",
    "papermill": {
     "duration": 0.108315,
     "end_time": "2022-02-04T16:06:36.731577",
     "exception": false,
     "start_time": "2022-02-04T16:06:36.623262",
     "status": "completed"
    },
    "tags": []
   },
   "outputs": [
    {
     "data": {
      "text/html": [
       "<div>\n",
       "<style scoped>\n",
       "    .dataframe tbody tr th:only-of-type {\n",
       "        vertical-align: middle;\n",
       "    }\n",
       "\n",
       "    .dataframe tbody tr th {\n",
       "        vertical-align: top;\n",
       "    }\n",
       "\n",
       "    .dataframe thead th {\n",
       "        text-align: right;\n",
       "    }\n",
       "</style>\n",
       "<table border=\"1\" class=\"dataframe\">\n",
       "  <thead>\n",
       "    <tr style=\"text-align: right;\">\n",
       "      <th></th>\n",
       "      <th>count</th>\n",
       "      <th>mean</th>\n",
       "      <th>std</th>\n",
       "      <th>min</th>\n",
       "      <th>25%</th>\n",
       "      <th>50%</th>\n",
       "      <th>75%</th>\n",
       "      <th>max</th>\n",
       "    </tr>\n",
       "  </thead>\n",
       "  <tbody>\n",
       "    <tr>\n",
       "      <th>age</th>\n",
       "      <td>302.0</td>\n",
       "      <td>54.420530</td>\n",
       "      <td>9.047970</td>\n",
       "      <td>29.0</td>\n",
       "      <td>48.00</td>\n",
       "      <td>55.5</td>\n",
       "      <td>61.00</td>\n",
       "      <td>77.0</td>\n",
       "    </tr>\n",
       "    <tr>\n",
       "      <th>sex</th>\n",
       "      <td>302.0</td>\n",
       "      <td>0.682119</td>\n",
       "      <td>0.466426</td>\n",
       "      <td>0.0</td>\n",
       "      <td>0.00</td>\n",
       "      <td>1.0</td>\n",
       "      <td>1.00</td>\n",
       "      <td>1.0</td>\n",
       "    </tr>\n",
       "    <tr>\n",
       "      <th>cp</th>\n",
       "      <td>302.0</td>\n",
       "      <td>0.963576</td>\n",
       "      <td>1.032044</td>\n",
       "      <td>0.0</td>\n",
       "      <td>0.00</td>\n",
       "      <td>1.0</td>\n",
       "      <td>2.00</td>\n",
       "      <td>3.0</td>\n",
       "    </tr>\n",
       "    <tr>\n",
       "      <th>trestbps</th>\n",
       "      <td>302.0</td>\n",
       "      <td>131.602649</td>\n",
       "      <td>17.563394</td>\n",
       "      <td>94.0</td>\n",
       "      <td>120.00</td>\n",
       "      <td>130.0</td>\n",
       "      <td>140.00</td>\n",
       "      <td>200.0</td>\n",
       "    </tr>\n",
       "    <tr>\n",
       "      <th>chol</th>\n",
       "      <td>302.0</td>\n",
       "      <td>246.500000</td>\n",
       "      <td>51.753489</td>\n",
       "      <td>126.0</td>\n",
       "      <td>211.00</td>\n",
       "      <td>240.5</td>\n",
       "      <td>274.75</td>\n",
       "      <td>564.0</td>\n",
       "    </tr>\n",
       "    <tr>\n",
       "      <th>fbs</th>\n",
       "      <td>302.0</td>\n",
       "      <td>0.149007</td>\n",
       "      <td>0.356686</td>\n",
       "      <td>0.0</td>\n",
       "      <td>0.00</td>\n",
       "      <td>0.0</td>\n",
       "      <td>0.00</td>\n",
       "      <td>1.0</td>\n",
       "    </tr>\n",
       "    <tr>\n",
       "      <th>restecg</th>\n",
       "      <td>302.0</td>\n",
       "      <td>0.526490</td>\n",
       "      <td>0.526027</td>\n",
       "      <td>0.0</td>\n",
       "      <td>0.00</td>\n",
       "      <td>1.0</td>\n",
       "      <td>1.00</td>\n",
       "      <td>2.0</td>\n",
       "    </tr>\n",
       "    <tr>\n",
       "      <th>thalach</th>\n",
       "      <td>302.0</td>\n",
       "      <td>149.569536</td>\n",
       "      <td>22.903527</td>\n",
       "      <td>71.0</td>\n",
       "      <td>133.25</td>\n",
       "      <td>152.5</td>\n",
       "      <td>166.00</td>\n",
       "      <td>202.0</td>\n",
       "    </tr>\n",
       "    <tr>\n",
       "      <th>exang</th>\n",
       "      <td>302.0</td>\n",
       "      <td>0.327815</td>\n",
       "      <td>0.470196</td>\n",
       "      <td>0.0</td>\n",
       "      <td>0.00</td>\n",
       "      <td>0.0</td>\n",
       "      <td>1.00</td>\n",
       "      <td>1.0</td>\n",
       "    </tr>\n",
       "    <tr>\n",
       "      <th>oldpeak</th>\n",
       "      <td>302.0</td>\n",
       "      <td>1.043046</td>\n",
       "      <td>1.161452</td>\n",
       "      <td>0.0</td>\n",
       "      <td>0.00</td>\n",
       "      <td>0.8</td>\n",
       "      <td>1.60</td>\n",
       "      <td>6.2</td>\n",
       "    </tr>\n",
       "    <tr>\n",
       "      <th>slope</th>\n",
       "      <td>302.0</td>\n",
       "      <td>1.397351</td>\n",
       "      <td>0.616274</td>\n",
       "      <td>0.0</td>\n",
       "      <td>1.00</td>\n",
       "      <td>1.0</td>\n",
       "      <td>2.00</td>\n",
       "      <td>2.0</td>\n",
       "    </tr>\n",
       "    <tr>\n",
       "      <th>ca</th>\n",
       "      <td>302.0</td>\n",
       "      <td>0.718543</td>\n",
       "      <td>1.006748</td>\n",
       "      <td>0.0</td>\n",
       "      <td>0.00</td>\n",
       "      <td>0.0</td>\n",
       "      <td>1.00</td>\n",
       "      <td>4.0</td>\n",
       "    </tr>\n",
       "    <tr>\n",
       "      <th>thal</th>\n",
       "      <td>302.0</td>\n",
       "      <td>2.314570</td>\n",
       "      <td>0.613026</td>\n",
       "      <td>0.0</td>\n",
       "      <td>2.00</td>\n",
       "      <td>2.0</td>\n",
       "      <td>3.00</td>\n",
       "      <td>3.0</td>\n",
       "    </tr>\n",
       "    <tr>\n",
       "      <th>target</th>\n",
       "      <td>302.0</td>\n",
       "      <td>0.543046</td>\n",
       "      <td>0.498970</td>\n",
       "      <td>0.0</td>\n",
       "      <td>0.00</td>\n",
       "      <td>1.0</td>\n",
       "      <td>1.00</td>\n",
       "      <td>1.0</td>\n",
       "    </tr>\n",
       "  </tbody>\n",
       "</table>\n",
       "</div>"
      ],
      "text/plain": [
       "          count        mean        std    min     25%    50%     75%    max\n",
       "age       302.0   54.420530   9.047970   29.0   48.00   55.5   61.00   77.0\n",
       "sex       302.0    0.682119   0.466426    0.0    0.00    1.0    1.00    1.0\n",
       "cp        302.0    0.963576   1.032044    0.0    0.00    1.0    2.00    3.0\n",
       "trestbps  302.0  131.602649  17.563394   94.0  120.00  130.0  140.00  200.0\n",
       "chol      302.0  246.500000  51.753489  126.0  211.00  240.5  274.75  564.0\n",
       "fbs       302.0    0.149007   0.356686    0.0    0.00    0.0    0.00    1.0\n",
       "restecg   302.0    0.526490   0.526027    0.0    0.00    1.0    1.00    2.0\n",
       "thalach   302.0  149.569536  22.903527   71.0  133.25  152.5  166.00  202.0\n",
       "exang     302.0    0.327815   0.470196    0.0    0.00    0.0    1.00    1.0\n",
       "oldpeak   302.0    1.043046   1.161452    0.0    0.00    0.8    1.60    6.2\n",
       "slope     302.0    1.397351   0.616274    0.0    1.00    1.0    2.00    2.0\n",
       "ca        302.0    0.718543   1.006748    0.0    0.00    0.0    1.00    4.0\n",
       "thal      302.0    2.314570   0.613026    0.0    2.00    2.0    3.00    3.0\n",
       "target    302.0    0.543046   0.498970    0.0    0.00    1.0    1.00    1.0"
      ]
     },
     "execution_count": 8,
     "metadata": {},
     "output_type": "execute_result"
    }
   ],
   "source": [
    "data_heart.describe().T"
   ]
  },
  {
   "cell_type": "code",
   "execution_count": 9,
   "id": "b7fbe723",
   "metadata": {
    "execution": {
     "iopub.execute_input": "2022-02-04T16:06:36.850802Z",
     "iopub.status.busy": "2022-02-04T16:06:36.850089Z",
     "iopub.status.idle": "2022-02-04T16:06:38.045194Z",
     "shell.execute_reply": "2022-02-04T16:06:38.045715Z",
     "shell.execute_reply.started": "2022-02-04T16:03:21.399119Z"
    },
    "id": "H6JBQlsP5UC-",
    "outputId": "b4aa3c41-f8f6-4f65-edea-06438fbef990",
    "papermill": {
     "duration": 1.258222,
     "end_time": "2022-02-04T16:06:38.045908",
     "exception": false,
     "start_time": "2022-02-04T16:06:36.787686",
     "status": "completed"
    },
    "tags": []
   },
   "outputs": [
    {
     "data": {
      "image/png": "[encoded data removed]",
      "text/plain": [
       "<Figure size 1080x720 with 2 Axes>"
      ]
     },
     "metadata": {},
     "output_type": "display_data"
    }
   ],
   "source": [
    "plt.figure(figsize=(15, 10))\n",
    "sns.heatmap(data_heart.corr(), annot=True)\n",
    "plt.show()"
   ]
  },
  {
   "cell_type": "markdown",
   "id": "8bf61120",
   "metadata": {
    "id": "1mv4Kvkcjw75",
    "papermill": {
     "duration": 0.059569,
     "end_time": "2022-02-04T16:06:38.164966",
     "exception": false,
     "start_time": "2022-02-04T16:06:38.105397",
     "status": "completed"
    },
    "tags": []
   },
   "source": [
    "# Data visualization"
   ]
  },
  {
   "cell_type": "markdown",
   "id": "416281b9",
   "metadata": {
    "id": "tM4f3GgdBhXD",
    "papermill": {
     "duration": 0.057771,
     "end_time": "2022-02-04T16:06:38.280999",
     "exception": false,
     "start_time": "2022-02-04T16:06:38.223228",
     "status": "completed"
    },
    "tags": []
   },
   "source": [
    "## Age : Age of the patient"
   ]
  },
  {
   "cell_type": "code",
   "execution_count": 10,
   "id": "2429fc0f",
   "metadata": {
    "execution": {
     "iopub.execute_input": "2022-02-04T16:06:38.412863Z",
     "iopub.status.busy": "2022-02-04T16:06:38.412140Z",
     "iopub.status.idle": "2022-02-04T16:06:39.277342Z",
     "shell.execute_reply": "2022-02-04T16:06:39.277887Z",
     "shell.execute_reply.started": "2022-02-04T16:03:22.529310Z"
    },
    "id": "hr4tjyRnpMQL",
    "outputId": "78614a3e-66a3-49c0-b6f0-138410ef3a5b",
    "papermill": {
     "duration": 0.937702,
     "end_time": "2022-02-04T16:06:39.278090",
     "exception": false,
     "start_time": "2022-02-04T16:06:38.340388",
     "status": "completed"
    },
    "tags": []
   },
   "outputs": [
    {
     "data": {
      "image/png": "[encoded data removed]",
      "text/plain": [
       "<Figure size 1080x360 with 1 Axes>"
      ]
     },
     "metadata": {},
     "output_type": "display_data"
    }
   ],
   "source": [
    "plt.figure(figsize=(15,5))\n",
    "sns.countplot(x=data_heart['age'], hue=data_heart['target'])\n",
    "plt.show()"
   ]
  },
  {
   "cell_type": "code",
   "execution_count": 11,
   "id": "fb66b4d1",
   "metadata": {
    "execution": {
     "iopub.execute_input": "2022-02-04T16:06:39.400877Z",
     "iopub.status.busy": "2022-02-04T16:06:39.400173Z",
     "iopub.status.idle": "2022-02-04T16:06:39.860057Z",
     "shell.execute_reply": "2022-02-04T16:06:39.859409Z",
     "shell.execute_reply.started": "2022-02-04T16:03:23.346527Z"
    },
    "id": "qWW3a1EvuWDM",
    "outputId": "57d16d54-78b5-4706-a975-2ad4e04d93df",
    "papermill": {
     "duration": 0.522205,
     "end_time": "2022-02-04T16:06:39.860245",
     "exception": false,
     "start_time": "2022-02-04T16:06:39.338040",
     "status": "completed"
    },
    "tags": []
   },
   "outputs": [
    {
     "data": {
      "image/png": "[encoded data removed]",
      "text/plain": [
       "<Figure size 432x288 with 1 Axes>"
      ]
     },
     "metadata": {},
     "output_type": "display_data"
    }
   ],
   "source": [
    "sns.scatterplot(x=data_heart['age'], y=data_heart['target'], hue=data_heart['target'])\n",
    "plt.show()"
   ]
  },
  {
   "cell_type": "markdown",
   "id": "527b00d3",
   "metadata": {
    "id": "YQ859M2QBYCY",
    "papermill": {
     "duration": 0.06342,
     "end_time": "2022-02-04T16:06:39.988561",
     "exception": false,
     "start_time": "2022-02-04T16:06:39.925141",
     "status": "completed"
    },
    "tags": []
   },
   "source": [
    "## Sex : Sex of the patient\n",
    "- 1 = male\n",
    "- 0 = female"
   ]
  },
  {
   "cell_type": "code",
   "execution_count": 12,
   "id": "fd562032",
   "metadata": {
    "execution": {
     "iopub.execute_input": "2022-02-04T16:06:40.122473Z",
     "iopub.status.busy": "2022-02-04T16:06:40.121600Z",
     "iopub.status.idle": "2022-02-04T16:06:40.126415Z",
     "shell.execute_reply": "2022-02-04T16:06:40.127035Z",
     "shell.execute_reply.started": "2022-02-04T16:03:23.661762Z"
    },
    "id": "fiLQQqHqohgt",
    "outputId": "7eb260c5-f23d-4876-dfd5-1a7a2a32fb9e",
    "papermill": {
     "duration": 0.075608,
     "end_time": "2022-02-04T16:06:40.127247",
     "exception": false,
     "start_time": "2022-02-04T16:06:40.051639",
     "status": "completed"
    },
    "tags": []
   },
   "outputs": [
    {
     "data": {
      "text/plain": [
       "1    206\n",
       "0     96\n",
       "Name: sex, dtype: int64"
      ]
     },
     "execution_count": 12,
     "metadata": {},
     "output_type": "execute_result"
    }
   ],
   "source": [
    "data_heart['sex'].value_counts()"
   ]
  },
  {
   "cell_type": "code",
   "execution_count": 13,
   "id": "42ababe4",
   "metadata": {
    "execution": {
     "iopub.execute_input": "2022-02-04T16:06:40.257704Z",
     "iopub.status.busy": "2022-02-04T16:06:40.256879Z",
     "iopub.status.idle": "2022-02-04T16:06:40.452344Z",
     "shell.execute_reply": "2022-02-04T16:06:40.453406Z",
     "shell.execute_reply.started": "2022-02-04T16:03:23.674549Z"
    },
    "id": "B3CwdxYaADK-",
    "outputId": "7522aabe-3f89-416b-f986-0a4736fa5ba5",
    "papermill": {
     "duration": 0.26332,
     "end_time": "2022-02-04T16:06:40.453753",
     "exception": false,
     "start_time": "2022-02-04T16:06:40.190433",
     "status": "completed"
    },
    "tags": []
   },
   "outputs": [
    {
     "data": {
      "image/png": "[encoded data removed]",
      "text/plain": [
       "<Figure size 432x288 with 1 Axes>"
      ]
     },
     "metadata": {},
     "output_type": "display_data"
    }
   ],
   "source": [
    "sns.countplot(x=data_heart['sex'], hue='target', data=data_heart)\n",
    "plt.show()"
   ]
  },
  {
   "cell_type": "markdown",
   "id": "0039f92f",
   "metadata": {
    "id": "WXNzc98QLWZa",
    "papermill": {
     "duration": 0.064304,
     "end_time": "2022-02-04T16:06:40.584065",
     "exception": false,
     "start_time": "2022-02-04T16:06:40.519761",
     "status": "completed"
    },
    "tags": []
   },
   "source": [
    "## cp : Chest Pain type chest pain type\n",
    "\n",
    "- Value 1: typical angina\n",
    "- Value 2: atypical angina\n",
    "- Value 3: non-anginal pain\n",
    "- Value 4: asymptomatic"
   ]
  },
  {
   "cell_type": "code",
   "execution_count": 14,
   "id": "32b2d990",
   "metadata": {
    "execution": {
     "iopub.execute_input": "2022-02-04T16:06:40.714296Z",
     "iopub.status.busy": "2022-02-04T16:06:40.713345Z",
     "iopub.status.idle": "2022-02-04T16:06:40.719966Z",
     "shell.execute_reply": "2022-02-04T16:06:40.720693Z",
     "shell.execute_reply.started": "2022-02-04T16:03:23.895092Z"
    },
    "id": "_eEKrIuzL-MR",
    "outputId": "a931ea51-4fc4-4a71-b83f-54c2a4cb72c3",
    "papermill": {
     "duration": 0.073399,
     "end_time": "2022-02-04T16:06:40.721045",
     "exception": false,
     "start_time": "2022-02-04T16:06:40.647646",
     "status": "completed"
    },
    "tags": []
   },
   "outputs": [
    {
     "data": {
      "text/plain": [
       "0    143\n",
       "2     86\n",
       "1     50\n",
       "3     23\n",
       "Name: cp, dtype: int64"
      ]
     },
     "execution_count": 14,
     "metadata": {},
     "output_type": "execute_result"
    }
   ],
   "source": [
    "data_heart['cp'].value_counts()"
   ]
  },
  {
   "cell_type": "code",
   "execution_count": 15,
   "id": "c9ef06de",
   "metadata": {
    "execution": {
     "iopub.execute_input": "2022-02-04T16:06:40.857961Z",
     "iopub.status.busy": "2022-02-04T16:06:40.857179Z",
     "iopub.status.idle": "2022-02-04T16:06:41.083596Z",
     "shell.execute_reply": "2022-02-04T16:06:41.082976Z",
     "shell.execute_reply.started": "2022-02-04T16:03:23.905783Z"
    },
    "id": "n8DqD9pbrrwx",
    "outputId": "132227cd-de94-4ac3-e46b-710c007cd68b",
    "papermill": {
     "duration": 0.298372,
     "end_time": "2022-02-04T16:06:41.083795",
     "exception": false,
     "start_time": "2022-02-04T16:06:40.785423",
     "status": "completed"
    },
    "tags": []
   },
   "outputs": [
    {
     "data": {
      "image/png": "[encoded data removed]",
      "text/plain": [
       "<Figure size 432x288 with 1 Axes>"
      ]
     },
     "metadata": {},
     "output_type": "display_data"
    }
   ],
   "source": [
    "sns.countplot(x=data_heart['cp'], hue='target', data=data_heart)\n",
    "plt.show()"
   ]
  },
  {
   "cell_type": "markdown",
   "id": "499b5649",
   "metadata": {
    "id": "3lChqvXTj7wK",
    "papermill": {
     "duration": 0.064201,
     "end_time": "2022-02-04T16:06:41.211271",
     "exception": false,
     "start_time": "2022-02-04T16:06:41.147070",
     "status": "completed"
    },
    "tags": []
   },
   "source": [
    "## trtbps : resting blood pressure (in mm Hg)"
   ]
  },
  {
   "cell_type": "code",
   "execution_count": 16,
   "id": "80b63ce6",
   "metadata": {
    "execution": {
     "iopub.execute_input": "2022-02-04T16:06:41.344898Z",
     "iopub.status.busy": "2022-02-04T16:06:41.344115Z",
     "iopub.status.idle": "2022-02-04T16:06:41.349126Z",
     "shell.execute_reply": "2022-02-04T16:06:41.349662Z",
     "shell.execute_reply.started": "2022-02-04T16:03:24.149100Z"
    },
    "id": "qHbytAx88ccb",
    "outputId": "6e86f941-7bf2-4e9e-ca06-b3888e38cb1d",
    "papermill": {
     "duration": 0.075142,
     "end_time": "2022-02-04T16:06:41.349890",
     "exception": false,
     "start_time": "2022-02-04T16:06:41.274748",
     "status": "completed"
    },
    "tags": []
   },
   "outputs": [
    {
     "data": {
      "text/plain": [
       "120    37\n",
       "130    36\n",
       "140    32\n",
       "110    19\n",
       "150    17\n",
       "128    12\n",
       "138    12\n",
       "160    11\n",
       "125    11\n",
       "112     9\n",
       "132     8\n",
       "118     7\n",
       "124     6\n",
       "135     6\n",
       "108     6\n",
       "152     5\n",
       "134     5\n",
       "145     5\n",
       "122     4\n",
       "170     4\n",
       "100     4\n",
       "105     3\n",
       "126     3\n",
       "115     3\n",
       "180     3\n",
       "136     3\n",
       "142     3\n",
       "102     2\n",
       "148     2\n",
       "178     2\n",
       "94      2\n",
       "144     2\n",
       "146     2\n",
       "200     1\n",
       "114     1\n",
       "154     1\n",
       "123     1\n",
       "192     1\n",
       "174     1\n",
       "165     1\n",
       "104     1\n",
       "117     1\n",
       "101     1\n",
       "156     1\n",
       "106     1\n",
       "155     1\n",
       "129     1\n",
       "172     1\n",
       "164     1\n",
       "Name: trestbps, dtype: int64"
      ]
     },
     "execution_count": 16,
     "metadata": {},
     "output_type": "execute_result"
    }
   ],
   "source": [
    "data_trestbps = data_heart['trestbps'].value_counts()\n",
    "data_trestbps"
   ]
  },
  {
   "cell_type": "code",
   "execution_count": 17,
   "id": "bca1ad8a",
   "metadata": {
    "execution": {
     "iopub.execute_input": "2022-02-04T16:06:41.499410Z",
     "iopub.status.busy": "2022-02-04T16:06:41.497662Z",
     "iopub.status.idle": "2022-02-04T16:06:41.819459Z",
     "shell.execute_reply": "2022-02-04T16:06:41.818825Z",
     "shell.execute_reply.started": "2022-02-04T16:03:24.161891Z"
    },
    "id": "jF6cFVqajs65",
    "outputId": "11850c98-0634-40cb-982d-e863482384a1",
    "papermill": {
     "duration": 0.404702,
     "end_time": "2022-02-04T16:06:41.819627",
     "exception": false,
     "start_time": "2022-02-04T16:06:41.414925",
     "status": "completed"
    },
    "tags": []
   },
   "outputs": [
    {
     "data": {
      "image/png": "[encoded data removed]",
      "text/plain": [
       "<Figure size 432x288 with 1 Axes>"
      ]
     },
     "metadata": {},
     "output_type": "display_data"
    }
   ],
   "source": [
    "sns.scatterplot(x='trestbps', y=data_trestbps, hue='target', data=data_heart)\n",
    "plt.ylabel('count')\n",
    "plt.show()"
   ]
  },
  {
   "cell_type": "markdown",
   "id": "95d8ca13",
   "metadata": {
    "id": "Ispt0_sh8wC3",
    "papermill": {
     "duration": 0.064829,
     "end_time": "2022-02-04T16:06:41.947968",
     "exception": false,
     "start_time": "2022-02-04T16:06:41.883139",
     "status": "completed"
    },
    "tags": []
   },
   "source": [
    "## chol : cholestoral in mg/dl fetched via BMI sensor\n"
   ]
  },
  {
   "cell_type": "code",
   "execution_count": 18,
   "id": "7a66c703",
   "metadata": {
    "execution": {
     "iopub.execute_input": "2022-02-04T16:06:42.079283Z",
     "iopub.status.busy": "2022-02-04T16:06:42.078310Z",
     "iopub.status.idle": "2022-02-04T16:06:42.085440Z",
     "shell.execute_reply": "2022-02-04T16:06:42.085932Z",
     "shell.execute_reply.started": "2022-02-04T16:03:24.527456Z"
    },
    "id": "EVlICKZd1S2m",
    "outputId": "9ecf7f10-32a1-4b94-ec5b-baff429a7a65",
    "papermill": {
     "duration": 0.074517,
     "end_time": "2022-02-04T16:06:42.086128",
     "exception": false,
     "start_time": "2022-02-04T16:06:42.011611",
     "status": "completed"
    },
    "tags": []
   },
   "outputs": [
    {
     "data": {
      "text/plain": [
       "array([233, 250, 204, 236, 354, 192, 294, 263, 199, 168, 239, 275, 266,\n",
       "       211, 283, 219, 340, 226, 247, 234, 243, 302, 212, 175, 417, 197,\n",
       "       198, 177, 273, 213, 304, 232, 269, 360, 308, 245, 208, 264, 321,\n",
       "       325, 235, 257, 216, 256, 231, 141, 252, 201, 222, 260, 182, 303,\n",
       "       265, 309, 186, 203, 183, 220, 209, 258, 227, 261, 221, 205, 240,\n",
       "       318, 298, 564, 277, 214, 248, 255, 207, 223, 288, 160, 394, 315,\n",
       "       246, 244, 270, 195, 196, 254, 126, 313, 262, 215, 193, 271, 268,\n",
       "       267, 210, 295, 306, 178, 242, 180, 228, 149, 278, 253, 342, 157,\n",
       "       286, 229, 284, 224, 206, 167, 230, 335, 276, 353, 225, 330, 290,\n",
       "       172, 305, 188, 282, 185, 326, 274, 164, 307, 249, 341, 407, 217,\n",
       "       174, 281, 289, 322, 299, 300, 293, 184, 409, 259, 200, 327, 237,\n",
       "       218, 319, 166, 311, 169, 187, 176, 241, 131])"
      ]
     },
     "execution_count": 18,
     "metadata": {},
     "output_type": "execute_result"
    }
   ],
   "source": [
    "data_heart['chol'].unique()"
   ]
  },
  {
   "cell_type": "code",
   "execution_count": 19,
   "id": "f91c1589",
   "metadata": {
    "execution": {
     "iopub.execute_input": "2022-02-04T16:06:42.219626Z",
     "iopub.status.busy": "2022-02-04T16:06:42.218696Z",
     "iopub.status.idle": "2022-02-04T16:06:42.227596Z",
     "shell.execute_reply": "2022-02-04T16:06:42.226953Z",
     "shell.execute_reply.started": "2022-02-04T16:03:24.537632Z"
    },
    "id": "jxUCtX9DMDag",
    "outputId": "173c4613-45f2-42f6-b845-d998de1311ae",
    "papermill": {
     "duration": 0.077991,
     "end_time": "2022-02-04T16:06:42.227734",
     "exception": false,
     "start_time": "2022-02-04T16:06:42.149743",
     "status": "completed"
    },
    "tags": []
   },
   "outputs": [
    {
     "data": {
      "text/plain": [
       "204    6\n",
       "197    6\n",
       "234    6\n",
       "212    5\n",
       "254    5\n",
       "      ..\n",
       "284    1\n",
       "224    1\n",
       "167    1\n",
       "276    1\n",
       "131    1\n",
       "Name: chol, Length: 152, dtype: int64"
      ]
     },
     "execution_count": 19,
     "metadata": {},
     "output_type": "execute_result"
    }
   ],
   "source": [
    "data_chol = data_heart['chol'].value_counts()\n",
    "data_chol"
   ]
  },
  {
   "cell_type": "code",
   "execution_count": 20,
   "id": "e6ae1574",
   "metadata": {
    "execution": {
     "iopub.execute_input": "2022-02-04T16:06:42.375527Z",
     "iopub.status.busy": "2022-02-04T16:06:42.374851Z",
     "iopub.status.idle": "2022-02-04T16:06:42.530026Z",
     "shell.execute_reply": "2022-02-04T16:06:42.529402Z",
     "shell.execute_reply.started": "2022-02-04T16:03:24.554496Z"
    },
    "id": "JR_URxcXI0eu",
    "outputId": "3dbebdcb-73c9-447e-8a88-f0fd916ee85c",
    "papermill": {
     "duration": 0.238629,
     "end_time": "2022-02-04T16:06:42.530197",
     "exception": false,
     "start_time": "2022-02-04T16:06:42.291568",
     "status": "completed"
    },
    "tags": []
   },
   "outputs": [
    {
     "data": {
      "image/png": "[encoded data removed]",
      "text/plain": [
       "<Figure size 720x360 with 1 Axes>"
      ]
     },
     "metadata": {},
     "output_type": "display_data"
    }
   ],
   "source": [
    "plt.figure(figsize=(10,5))\n",
    "plt.boxplot(data_heart['chol'])\n",
    "plt.show()"
   ]
  },
  {
   "cell_type": "code",
   "execution_count": 21,
   "id": "9e68eb6d",
   "metadata": {
    "execution": {
     "iopub.execute_input": "2022-02-04T16:06:42.665590Z",
     "iopub.status.busy": "2022-02-04T16:06:42.664881Z",
     "iopub.status.idle": "2022-02-04T16:06:43.007147Z",
     "shell.execute_reply": "2022-02-04T16:06:43.006421Z",
     "shell.execute_reply.started": "2022-02-04T16:03:24.735291Z"
    },
    "id": "qccCzrwSZK5l",
    "outputId": "6f96555e-77a3-4056-9f75-248604e37176",
    "papermill": {
     "duration": 0.411544,
     "end_time": "2022-02-04T16:06:43.007302",
     "exception": false,
     "start_time": "2022-02-04T16:06:42.595758",
     "status": "completed"
    },
    "tags": []
   },
   "outputs": [
    {
     "data": {
      "image/png": "[encoded data removed]",
      "text/plain": [
       "<Figure size 720x360 with 1 Axes>"
      ]
     },
     "metadata": {},
     "output_type": "display_data"
    }
   ],
   "source": [
    "plt.figure(figsize=(10,5))\n",
    "sns.scatterplot(x='chol', y=data_chol, hue='target', data=data_heart, palette='Set2')\n",
    "plt.show()"
   ]
  },
  {
   "cell_type": "markdown",
   "id": "db720367",
   "metadata": {
    "id": "0OweM_u_GMEv",
    "papermill": {
     "duration": 0.080795,
     "end_time": "2022-02-04T16:06:43.155523",
     "exception": false,
     "start_time": "2022-02-04T16:06:43.074728",
     "status": "completed"
    },
    "tags": []
   },
   "source": [
    "## fbs : (fasting blood sugar > 120 mg/dl)\n",
    "- 1 = true;\n",
    "- 0 = false."
   ]
  },
  {
   "cell_type": "code",
   "execution_count": 22,
   "id": "67b73c61",
   "metadata": {
    "execution": {
     "iopub.execute_input": "2022-02-04T16:06:43.307157Z",
     "iopub.status.busy": "2022-02-04T16:06:43.306396Z",
     "iopub.status.idle": "2022-02-04T16:06:43.313597Z",
     "shell.execute_reply": "2022-02-04T16:06:43.314179Z",
     "shell.execute_reply.started": "2022-02-04T16:03:25.093827Z"
    },
    "id": "U0QxlGmjNZAd",
    "outputId": "a2ef2b75-6624-4eb0-a2dd-12fa9414209a",
    "papermill": {
     "duration": 0.076625,
     "end_time": "2022-02-04T16:06:43.314356",
     "exception": false,
     "start_time": "2022-02-04T16:06:43.237731",
     "status": "completed"
    },
    "tags": []
   },
   "outputs": [
    {
     "data": {
      "text/plain": [
       "0    257\n",
       "1     45\n",
       "Name: fbs, dtype: int64"
      ]
     },
     "execution_count": 22,
     "metadata": {},
     "output_type": "execute_result"
    }
   ],
   "source": [
    "data_fbs = data_heart['fbs'].value_counts()\n",
    "data_fbs"
   ]
  },
  {
   "cell_type": "code",
   "execution_count": 23,
   "id": "1be6d080",
   "metadata": {
    "execution": {
     "iopub.execute_input": "2022-02-04T16:06:43.457466Z",
     "iopub.status.busy": "2022-02-04T16:06:43.456715Z",
     "iopub.status.idle": "2022-02-04T16:06:43.663284Z",
     "shell.execute_reply": "2022-02-04T16:06:43.663827Z",
     "shell.execute_reply.started": "2022-02-04T16:03:25.104079Z"
    },
    "id": "fPI86qoZLn8t",
    "outputId": "3c2aa971-aebb-4676-830e-ef09458d67bf",
    "papermill": {
     "duration": 0.283293,
     "end_time": "2022-02-04T16:06:43.664050",
     "exception": false,
     "start_time": "2022-02-04T16:06:43.380757",
     "status": "completed"
    },
    "tags": []
   },
   "outputs": [
    {
     "data": {
      "image/png": "[encoded data removed]",
      "text/plain": [
       "<Figure size 432x288 with 1 Axes>"
      ]
     },
     "metadata": {},
     "output_type": "display_data"
    }
   ],
   "source": [
    "sns.countplot(x='fbs', hue='target', data=data_heart)\n",
    "plt.show()"
   ]
  },
  {
   "cell_type": "markdown",
   "id": "540101b8",
   "metadata": {
    "id": "nZLsHLoTGnLx",
    "papermill": {
     "duration": 0.069073,
     "end_time": "2022-02-04T16:06:43.802726",
     "exception": false,
     "start_time": "2022-02-04T16:06:43.733653",
     "status": "completed"
    },
    "tags": []
   },
   "source": [
    "## rest_ecg : resting electrocardiographic results\n",
    "\n",
    "- Value 0: normal;\n",
    "- Value 1: having ST-T wave abnormality (T wave inversions and/or ST elevation or depression of > 0.05 mV);\n",
    "- Value 2: showing probable or definite left ventricular hypertrophy by Estes' criteria."
   ]
  },
  {
   "cell_type": "code",
   "execution_count": 24,
   "id": "83012ee4",
   "metadata": {
    "execution": {
     "iopub.execute_input": "2022-02-04T16:06:43.945036Z",
     "iopub.status.busy": "2022-02-04T16:06:43.944265Z",
     "iopub.status.idle": "2022-02-04T16:06:43.951581Z",
     "shell.execute_reply": "2022-02-04T16:06:43.952079Z",
     "shell.execute_reply.started": "2022-02-04T16:03:25.332622Z"
    },
    "id": "-25mkgV_Oaey",
    "outputId": "cde89e44-48dc-4fc6-ab5f-a1d09516fabd",
    "papermill": {
     "duration": 0.080274,
     "end_time": "2022-02-04T16:06:43.952296",
     "exception": false,
     "start_time": "2022-02-04T16:06:43.872022",
     "status": "completed"
    },
    "tags": []
   },
   "outputs": [
    {
     "data": {
      "text/plain": [
       "1    151\n",
       "0    147\n",
       "2      4\n",
       "Name: restecg, dtype: int64"
      ]
     },
     "execution_count": 24,
     "metadata": {},
     "output_type": "execute_result"
    }
   ],
   "source": [
    "data_restecg = data_heart['restecg'].value_counts()\n",
    "data_restecg"
   ]
  },
  {
   "cell_type": "code",
   "execution_count": 25,
   "id": "75fd41e8",
   "metadata": {
    "execution": {
     "iopub.execute_input": "2022-02-04T16:06:44.098418Z",
     "iopub.status.busy": "2022-02-04T16:06:44.097611Z",
     "iopub.status.idle": "2022-02-04T16:06:44.316602Z",
     "shell.execute_reply": "2022-02-04T16:06:44.316036Z",
     "shell.execute_reply.started": "2022-02-04T16:03:25.343007Z"
    },
    "id": "fyD7mAOqN_lo",
    "outputId": "bac33fd4-7cee-41bc-8197-832dab066bad",
    "papermill": {
     "duration": 0.29469,
     "end_time": "2022-02-04T16:06:44.316789",
     "exception": false,
     "start_time": "2022-02-04T16:06:44.022099",
     "status": "completed"
    },
    "tags": []
   },
   "outputs": [
    {
     "data": {
      "image/png": "[encoded data removed]",
      "text/plain": [
       "<Figure size 432x288 with 1 Axes>"
      ]
     },
     "metadata": {},
     "output_type": "display_data"
    }
   ],
   "source": [
    "sns.countplot(x='restecg', hue='target', data=data_heart)\n",
    "plt.show()"
   ]
  },
  {
   "cell_type": "markdown",
   "id": "ab54a1e2",
   "metadata": {
    "id": "OgWZI5dkHIXQ",
    "papermill": {
     "duration": 0.071955,
     "end_time": "2022-02-04T16:06:44.459991",
     "exception": false,
     "start_time": "2022-02-04T16:06:44.388036",
     "status": "completed"
    },
    "tags": []
   },
   "source": [
    "## thalach : maximum heart rate achieved"
   ]
  },
  {
   "cell_type": "code",
   "execution_count": 26,
   "id": "0c98b08c",
   "metadata": {
    "execution": {
     "iopub.execute_input": "2022-02-04T16:06:44.606220Z",
     "iopub.status.busy": "2022-02-04T16:06:44.605506Z",
     "iopub.status.idle": "2022-02-04T16:06:44.608281Z",
     "shell.execute_reply": "2022-02-04T16:06:44.608705Z",
     "shell.execute_reply.started": "2022-02-04T16:03:25.575007Z"
    },
    "id": "sMnLMEgwcnr1",
    "outputId": "69d5ded0-3449-41c1-8ab5-b365c64ef842",
    "papermill": {
     "duration": 0.079174,
     "end_time": "2022-02-04T16:06:44.608903",
     "exception": false,
     "start_time": "2022-02-04T16:06:44.529729",
     "status": "completed"
    },
    "tags": []
   },
   "outputs": [
    {
     "data": {
      "text/plain": [
       "array([150, 187, 172, 178, 163, 148, 153, 173, 162, 174, 160, 139, 171,\n",
       "       144, 158, 114, 151, 161, 179, 137, 157, 123, 152, 168, 140, 188,\n",
       "       125, 170, 165, 142, 180, 143, 182, 156, 115, 149, 146, 175, 186,\n",
       "       185, 159, 130, 190, 132, 147, 154, 202, 166, 164, 184, 122, 169,\n",
       "       138, 111, 145, 194, 131, 133, 155, 167, 192, 121,  96, 126, 105,\n",
       "       181, 116, 108, 129, 120, 112, 128, 109, 113,  99, 177, 141, 136,\n",
       "        97, 127, 103, 124,  88, 195, 106,  95, 117,  71, 118, 134,  90])"
      ]
     },
     "execution_count": 26,
     "metadata": {},
     "output_type": "execute_result"
    }
   ],
   "source": [
    "data_heart['thalach'].unique()"
   ]
  },
  {
   "cell_type": "code",
   "execution_count": 27,
   "id": "098ffcd3",
   "metadata": {
    "execution": {
     "iopub.execute_input": "2022-02-04T16:06:44.749465Z",
     "iopub.status.busy": "2022-02-04T16:06:44.748695Z",
     "iopub.status.idle": "2022-02-04T16:06:44.934083Z",
     "shell.execute_reply": "2022-02-04T16:06:44.934584Z",
     "shell.execute_reply.started": "2022-02-04T16:03:25.584311Z"
    },
    "id": "24kaQWY4c0rt",
    "outputId": "349bef3e-21e7-457b-e994-ea1853935731",
    "papermill": {
     "duration": 0.25789,
     "end_time": "2022-02-04T16:06:44.934770",
     "exception": false,
     "start_time": "2022-02-04T16:06:44.676880",
     "status": "completed"
    },
    "tags": []
   },
   "outputs": [
    {
     "data": {
      "image/png": "[encoded data removed]",
      "text/plain": [
       "<Figure size 720x360 with 1 Axes>"
      ]
     },
     "metadata": {},
     "output_type": "display_data"
    }
   ],
   "source": [
    "plt.figure(figsize=(10,5))\n",
    "plt.boxplot(data_heart['thalach'])\n",
    "plt.show()"
   ]
  },
  {
   "cell_type": "markdown",
   "id": "e2b646bd",
   "metadata": {
    "id": "ILlDC-DoHWLY",
    "papermill": {
     "duration": 0.070535,
     "end_time": "2022-02-04T16:06:45.074427",
     "exception": false,
     "start_time": "2022-02-04T16:06:45.003892",
     "status": "completed"
    },
    "tags": []
   },
   "source": [
    "## exang: exercise induced angina\n",
    "\n",
    "- 1 = yes;\n",
    "- 0 = no."
   ]
  },
  {
   "cell_type": "code",
   "execution_count": 28,
   "id": "cda4eae0",
   "metadata": {
    "execution": {
     "iopub.execute_input": "2022-02-04T16:06:45.217415Z",
     "iopub.status.busy": "2022-02-04T16:06:45.216659Z",
     "iopub.status.idle": "2022-02-04T16:06:45.225127Z",
     "shell.execute_reply": "2022-02-04T16:06:45.225679Z",
     "shell.execute_reply.started": "2022-02-04T16:03:25.775585Z"
    },
    "id": "ZS9lxeZcOm1y",
    "outputId": "752e2979-8e35-4dd7-d543-fc479c9bb18d",
    "papermill": {
     "duration": 0.08193,
     "end_time": "2022-02-04T16:06:45.225880",
     "exception": false,
     "start_time": "2022-02-04T16:06:45.143950",
     "status": "completed"
    },
    "tags": []
   },
   "outputs": [
    {
     "data": {
      "text/plain": [
       "0    203\n",
       "1     99\n",
       "Name: exang, dtype: int64"
      ]
     },
     "execution_count": 28,
     "metadata": {},
     "output_type": "execute_result"
    }
   ],
   "source": [
    "data_exang = data_heart['exang'].value_counts()\n",
    "data_exang"
   ]
  },
  {
   "cell_type": "code",
   "execution_count": 29,
   "id": "5dbd0f3d",
   "metadata": {
    "execution": {
     "iopub.execute_input": "2022-02-04T16:06:45.369361Z",
     "iopub.status.busy": "2022-02-04T16:06:45.368659Z",
     "iopub.status.idle": "2022-02-04T16:06:45.591972Z",
     "shell.execute_reply": "2022-02-04T16:06:45.592514Z",
     "shell.execute_reply.started": "2022-02-04T16:03:25.785994Z"
    },
    "id": "LtU5wx6EPA--",
    "outputId": "d657e926-d35f-4ea7-8bff-10f53e21c6c6",
    "papermill": {
     "duration": 0.296683,
     "end_time": "2022-02-04T16:06:45.592696",
     "exception": false,
     "start_time": "2022-02-04T16:06:45.296013",
     "status": "completed"
    },
    "tags": []
   },
   "outputs": [
    {
     "data": {
      "image/png": "[encoded data removed]",
      "text/plain": [
       "<Figure size 432x288 with 1 Axes>"
      ]
     },
     "metadata": {},
     "output_type": "display_data"
    }
   ],
   "source": [
    "sns.countplot(x='exang', hue='target', data=data_heart)\n",
    "plt.show()"
   ]
  },
  {
   "cell_type": "markdown",
   "id": "328be4e6",
   "metadata": {
    "id": "8oGKaIGrHvPR",
    "papermill": {
     "duration": 0.078757,
     "end_time": "2022-02-04T16:06:45.744053",
     "exception": false,
     "start_time": "2022-02-04T16:06:45.665296",
     "status": "completed"
    },
    "tags": []
   },
   "source": [
    "## oldpeak - Previous peak"
   ]
  },
  {
   "cell_type": "code",
   "execution_count": 30,
   "id": "4b230c32",
   "metadata": {
    "execution": {
     "iopub.execute_input": "2022-02-04T16:06:45.897394Z",
     "iopub.status.busy": "2022-02-04T16:06:45.896621Z",
     "iopub.status.idle": "2022-02-04T16:06:45.909696Z",
     "shell.execute_reply": "2022-02-04T16:06:45.908998Z",
     "shell.execute_reply.started": "2022-02-04T16:03:26.019005Z"
    },
    "id": "YTLrZ69aSln-",
    "outputId": "0e611cf1-7e48-4cd0-ca57-dec171d009a9",
    "papermill": {
     "duration": 0.092422,
     "end_time": "2022-02-04T16:06:45.909994",
     "exception": false,
     "start_time": "2022-02-04T16:06:45.817572",
     "status": "completed"
    },
    "tags": []
   },
   "outputs": [
    {
     "data": {
      "text/plain": [
       "0.0    98\n",
       "1.2    17\n",
       "1.0    14\n",
       "0.6    14\n",
       "1.4    13\n",
       "0.8    13\n",
       "0.2    12\n",
       "1.6    11\n",
       "1.8    10\n",
       "0.4     9\n",
       "2.0     9\n",
       "0.1     7\n",
       "2.8     6\n",
       "2.6     6\n",
       "1.5     5\n",
       "3.0     5\n",
       "1.9     5\n",
       "0.5     5\n",
       "3.6     4\n",
       "2.2     4\n",
       "2.4     3\n",
       "0.9     3\n",
       "3.4     3\n",
       "4.0     3\n",
       "0.3     3\n",
       "2.3     2\n",
       "3.2     2\n",
       "2.5     2\n",
       "4.2     2\n",
       "1.1     2\n",
       "3.1     1\n",
       "0.7     1\n",
       "3.5     1\n",
       "6.2     1\n",
       "1.3     1\n",
       "5.6     1\n",
       "2.9     1\n",
       "2.1     1\n",
       "3.8     1\n",
       "4.4     1\n",
       "Name: oldpeak, dtype: int64"
      ]
     },
     "execution_count": 30,
     "metadata": {},
     "output_type": "execute_result"
    }
   ],
   "source": [
    "data_oldpeak = data_heart['oldpeak'].value_counts()\n",
    "data_oldpeak"
   ]
  },
  {
   "cell_type": "code",
   "execution_count": 31,
   "id": "4fb49ed4",
   "metadata": {
    "execution": {
     "iopub.execute_input": "2022-02-04T16:06:46.088760Z",
     "iopub.status.busy": "2022-02-04T16:06:46.082282Z",
     "iopub.status.idle": "2022-02-04T16:06:46.929486Z",
     "shell.execute_reply": "2022-02-04T16:06:46.928623Z",
     "shell.execute_reply.started": "2022-02-04T16:03:26.031056Z"
    },
    "id": "NDGMN8gtTHIy",
    "outputId": "fc595c76-b966-43a7-ce62-b4e32eae5d9e",
    "papermill": {
     "duration": 0.939754,
     "end_time": "2022-02-04T16:06:46.929662",
     "exception": false,
     "start_time": "2022-02-04T16:06:45.989908",
     "status": "completed"
    },
    "tags": []
   },
   "outputs": [
    {
     "data": {
      "image/png": "[encoded data removed]",
      "text/plain": [
       "<Figure size 1080x360 with 1 Axes>"
      ]
     },
     "metadata": {},
     "output_type": "display_data"
    }
   ],
   "source": [
    "plt.figure(figsize=(15,5))\n",
    "sns.countplot(x=data_heart['oldpeak'], hue=data_heart['target'])\n",
    "plt.show()"
   ]
  },
  {
   "cell_type": "markdown",
   "id": "44e2d7eb",
   "metadata": {
    "id": "x-6t_pHXICQu",
    "papermill": {
     "duration": 0.072715,
     "end_time": "2022-02-04T16:06:47.075745",
     "exception": false,
     "start_time": "2022-02-04T16:06:47.003030",
     "status": "completed"
    },
    "tags": []
   },
   "source": [
    "## slope"
   ]
  },
  {
   "cell_type": "code",
   "execution_count": 32,
   "id": "53dba384",
   "metadata": {
    "execution": {
     "iopub.execute_input": "2022-02-04T16:06:47.227309Z",
     "iopub.status.busy": "2022-02-04T16:06:47.226413Z",
     "iopub.status.idle": "2022-02-04T16:06:47.231545Z",
     "shell.execute_reply": "2022-02-04T16:06:47.230412Z",
     "shell.execute_reply.started": "2022-02-04T16:03:27.036746Z"
    },
    "id": "Pi1p8ef1VAyr",
    "outputId": "d0be083e-249e-4daa-821c-3c3ae047519a",
    "papermill": {
     "duration": 0.083405,
     "end_time": "2022-02-04T16:06:47.231738",
     "exception": false,
     "start_time": "2022-02-04T16:06:47.148333",
     "status": "completed"
    },
    "tags": []
   },
   "outputs": [
    {
     "data": {
      "text/plain": [
       "2    141\n",
       "1    140\n",
       "0     21\n",
       "Name: slope, dtype: int64"
      ]
     },
     "execution_count": 32,
     "metadata": {},
     "output_type": "execute_result"
    }
   ],
   "source": [
    "data_heart['slope'].value_counts()"
   ]
  },
  {
   "cell_type": "code",
   "execution_count": 33,
   "id": "83e0ca0e",
   "metadata": {
    "execution": {
     "iopub.execute_input": "2022-02-04T16:06:47.393325Z",
     "iopub.status.busy": "2022-02-04T16:06:47.391021Z",
     "iopub.status.idle": "2022-02-04T16:06:47.592445Z",
     "shell.execute_reply": "2022-02-04T16:06:47.591799Z",
     "shell.execute_reply.started": "2022-02-04T16:03:27.046161Z"
    },
    "id": "4NUuF4QaVcBG",
    "outputId": "d983bf10-6074-4a3c-a0dc-fb55a39cd0d7",
    "papermill": {
     "duration": 0.283433,
     "end_time": "2022-02-04T16:06:47.592605",
     "exception": false,
     "start_time": "2022-02-04T16:06:47.309172",
     "status": "completed"
    },
    "tags": []
   },
   "outputs": [
    {
     "data": {
      "image/png": "[encoded data removed]",
      "text/plain": [
       "<Figure size 432x288 with 1 Axes>"
      ]
     },
     "metadata": {},
     "output_type": "display_data"
    }
   ],
   "source": [
    "sns.countplot(x='slope', hue='target', data=data_heart)\n",
    "plt.show()"
   ]
  },
  {
   "cell_type": "markdown",
   "id": "75a8477e",
   "metadata": {
    "id": "eIXQHqqHINEh",
    "papermill": {
     "duration": 0.072736,
     "end_time": "2022-02-04T16:06:47.738352",
     "exception": false,
     "start_time": "2022-02-04T16:06:47.665616",
     "status": "completed"
    },
    "tags": []
   },
   "source": [
    "## ca: number of major vessels (0-3)"
   ]
  },
  {
   "cell_type": "code",
   "execution_count": 34,
   "id": "1fe4bb8c",
   "metadata": {
    "execution": {
     "iopub.execute_input": "2022-02-04T16:06:47.893686Z",
     "iopub.status.busy": "2022-02-04T16:06:47.893048Z",
     "iopub.status.idle": "2022-02-04T16:06:47.900211Z",
     "shell.execute_reply": "2022-02-04T16:06:47.900667Z",
     "shell.execute_reply.started": "2022-02-04T16:03:27.272038Z"
    },
    "id": "Ez5K2tZkVp6Q",
    "outputId": "d1d9bf75-1b1e-4faa-e6a8-aa4710092091",
    "papermill": {
     "duration": 0.088793,
     "end_time": "2022-02-04T16:06:47.900920",
     "exception": false,
     "start_time": "2022-02-04T16:06:47.812127",
     "status": "completed"
    },
    "tags": []
   },
   "outputs": [
    {
     "data": {
      "text/plain": [
       "0    175\n",
       "1     65\n",
       "2     38\n",
       "3     20\n",
       "4      4\n",
       "Name: ca, dtype: int64"
      ]
     },
     "execution_count": 34,
     "metadata": {},
     "output_type": "execute_result"
    }
   ],
   "source": [
    "data_heart['ca'].value_counts()"
   ]
  },
  {
   "cell_type": "code",
   "execution_count": 35,
   "id": "9abd9c87",
   "metadata": {
    "execution": {
     "iopub.execute_input": "2022-02-04T16:06:48.060180Z",
     "iopub.status.busy": "2022-02-04T16:06:48.055564Z",
     "iopub.status.idle": "2022-02-04T16:06:48.300795Z",
     "shell.execute_reply": "2022-02-04T16:06:48.300079Z",
     "shell.execute_reply.started": "2022-02-04T16:03:27.282878Z"
    },
    "id": "lbHk_r4BWDoe",
    "outputId": "becfc7e7-e26a-4557-cad1-7ad873bb8c2f",
    "papermill": {
     "duration": 0.324263,
     "end_time": "2022-02-04T16:06:48.300967",
     "exception": false,
     "start_time": "2022-02-04T16:06:47.976704",
     "status": "completed"
    },
    "tags": []
   },
   "outputs": [
    {
     "data": {
      "image/png": "[encoded data removed]",
      "text/plain": [
       "<Figure size 432x288 with 1 Axes>"
      ]
     },
     "metadata": {},
     "output_type": "display_data"
    }
   ],
   "source": [
    "sns.countplot(x='ca', hue='target', data=data_heart)\n",
    "plt.show()"
   ]
  },
  {
   "cell_type": "markdown",
   "id": "ec4e987a",
   "metadata": {
    "id": "LbIERIvhIXVh",
    "papermill": {
     "duration": 0.073883,
     "end_time": "2022-02-04T16:06:48.449185",
     "exception": false,
     "start_time": "2022-02-04T16:06:48.375302",
     "status": "completed"
    },
    "tags": []
   },
   "source": [
    "## thall - Thalium Stress Test result ~ (0,3)"
   ]
  },
  {
   "cell_type": "code",
   "execution_count": 36,
   "id": "993cfcf7",
   "metadata": {
    "execution": {
     "iopub.execute_input": "2022-02-04T16:06:48.614797Z",
     "iopub.status.busy": "2022-02-04T16:06:48.613668Z",
     "iopub.status.idle": "2022-02-04T16:06:48.617619Z",
     "shell.execute_reply": "2022-02-04T16:06:48.618257Z",
     "shell.execute_reply.started": "2022-02-04T16:03:27.559366Z"
    },
    "id": "tEULl_6bWOvx",
    "outputId": "14d7a183-0388-42de-e7b8-92598557f8fe",
    "papermill": {
     "duration": 0.093766,
     "end_time": "2022-02-04T16:06:48.618464",
     "exception": false,
     "start_time": "2022-02-04T16:06:48.524698",
     "status": "completed"
    },
    "tags": []
   },
   "outputs": [
    {
     "data": {
      "text/plain": [
       "2    165\n",
       "3    117\n",
       "1     18\n",
       "0      2\n",
       "Name: thal, dtype: int64"
      ]
     },
     "execution_count": 36,
     "metadata": {},
     "output_type": "execute_result"
    }
   ],
   "source": [
    "data_heart['thal'].value_counts()"
   ]
  },
  {
   "cell_type": "code",
   "execution_count": 37,
   "id": "bd533b2d",
   "metadata": {
    "execution": {
     "iopub.execute_input": "2022-02-04T16:06:48.772442Z",
     "iopub.status.busy": "2022-02-04T16:06:48.771456Z",
     "iopub.status.idle": "2022-02-04T16:06:49.022519Z",
     "shell.execute_reply": "2022-02-04T16:06:49.021740Z",
     "shell.execute_reply.started": "2022-02-04T16:03:27.575021Z"
    },
    "id": "v0EGGEISWcbg",
    "outputId": "dd0bcde9-cdcf-4305-c7c1-5b7714c51984",
    "papermill": {
     "duration": 0.328772,
     "end_time": "2022-02-04T16:06:49.022728",
     "exception": false,
     "start_time": "2022-02-04T16:06:48.693956",
     "status": "completed"
    },
    "tags": []
   },
   "outputs": [
    {
     "data": {
      "image/png": "[encoded data removed]",
      "text/plain": [
       "<Figure size 432x288 with 1 Axes>"
      ]
     },
     "metadata": {},
     "output_type": "display_data"
    }
   ],
   "source": [
    "sns.countplot(x='thal', hue='target', data=data_heart)\n",
    "plt.show()"
   ]
  },
  {
   "cell_type": "markdown",
   "id": "7bc422e1",
   "metadata": {
    "id": "xp2GkFA-WKvA",
    "papermill": {
     "duration": 0.083015,
     "end_time": "2022-02-04T16:06:49.196972",
     "exception": false,
     "start_time": "2022-02-04T16:06:49.113957",
     "status": "completed"
    },
    "tags": []
   },
   "source": [
    "# **Data preparation**\n",
    "\n",
    "- Determine independent variables(X) and dependent variables(y);\n",
    "- Split training (70%) and test (30%) data."
   ]
  },
  {
   "cell_type": "markdown",
   "id": "c2b0f482",
   "metadata": {
    "id": "yZLKQLe_NsEO",
    "papermill": {
     "duration": 0.123026,
     "end_time": "2022-02-04T16:06:49.412628",
     "exception": false,
     "start_time": "2022-02-04T16:06:49.289602",
     "status": "completed"
    },
    "tags": []
   },
   "source": [
    "## **Independent variable and dependent variable**"
   ]
  },
  {
   "cell_type": "code",
   "execution_count": 38,
   "id": "4e8c597e",
   "metadata": {
    "execution": {
     "iopub.execute_input": "2022-02-04T16:06:49.579819Z",
     "iopub.status.busy": "2022-02-04T16:06:49.579096Z",
     "iopub.status.idle": "2022-02-04T16:06:49.582640Z",
     "shell.execute_reply": "2022-02-04T16:06:49.582099Z",
     "shell.execute_reply.started": "2022-02-04T16:03:27.818380Z"
    },
    "id": "KOcxw7ZGhgcW",
    "papermill": {
     "duration": 0.089006,
     "end_time": "2022-02-04T16:06:49.582822",
     "exception": false,
     "start_time": "2022-02-04T16:06:49.493816",
     "status": "completed"
    },
    "tags": []
   },
   "outputs": [],
   "source": [
    "X = data_heart.iloc[:, 0:-1]\n",
    "y = data_heart['target']"
   ]
  },
  {
   "cell_type": "markdown",
   "id": "53ad5c97",
   "metadata": {
    "id": "PSUKrKLfib-k",
    "papermill": {
     "duration": 0.076858,
     "end_time": "2022-02-04T16:06:49.737153",
     "exception": false,
     "start_time": "2022-02-04T16:06:49.660295",
     "status": "completed"
    },
    "tags": []
   },
   "source": [
    "## **Training and testing**"
   ]
  },
  {
   "cell_type": "code",
   "execution_count": 39,
   "id": "d8405e8a",
   "metadata": {
    "execution": {
     "iopub.execute_input": "2022-02-04T16:06:49.895371Z",
     "iopub.status.busy": "2022-02-04T16:06:49.894679Z",
     "iopub.status.idle": "2022-02-04T16:06:49.898177Z",
     "shell.execute_reply": "2022-02-04T16:06:49.898757Z",
     "shell.execute_reply.started": "2022-02-04T16:03:27.826860Z"
    },
    "id": "kG-dAjjIifPE",
    "papermill": {
     "duration": 0.084181,
     "end_time": "2022-02-04T16:06:49.898986",
     "exception": false,
     "start_time": "2022-02-04T16:06:49.814805",
     "status": "completed"
    },
    "tags": []
   },
   "outputs": [],
   "source": [
    "from sklearn.model_selection import train_test_split"
   ]
  },
  {
   "cell_type": "code",
   "execution_count": 40,
   "id": "e4ded01e",
   "metadata": {
    "execution": {
     "iopub.execute_input": "2022-02-04T16:06:50.061790Z",
     "iopub.status.busy": "2022-02-04T16:06:50.061086Z",
     "iopub.status.idle": "2022-02-04T16:06:50.065927Z",
     "shell.execute_reply": "2022-02-04T16:06:50.066507Z",
     "shell.execute_reply.started": "2022-02-04T16:03:27.840327Z"
    },
    "id": "hVoObLuSWvyD",
    "papermill": {
     "duration": 0.087493,
     "end_time": "2022-02-04T16:06:50.066705",
     "exception": false,
     "start_time": "2022-02-04T16:06:49.979212",
     "status": "completed"
    },
    "tags": []
   },
   "outputs": [],
   "source": [
    "X_train, X_test, y_train, y_test = train_test_split(X,y, test_size=0.3, random_state=0)"
   ]
  },
  {
   "cell_type": "markdown",
   "id": "c861fd1b",
   "metadata": {
    "id": "4BrdmTFGRDyP",
    "papermill": {
     "duration": 0.079922,
     "end_time": "2022-02-04T16:06:50.226924",
     "exception": false,
     "start_time": "2022-02-04T16:06:50.147002",
     "status": "completed"
    },
    "tags": []
   },
   "source": [
    "# **Logistic regression**"
   ]
  },
  {
   "cell_type": "code",
   "execution_count": 41,
   "id": "29f3b1b5",
   "metadata": {
    "execution": {
     "iopub.execute_input": "2022-02-04T16:06:50.378759Z",
     "iopub.status.busy": "2022-02-04T16:06:50.378121Z",
     "iopub.status.idle": "2022-02-04T16:06:50.381895Z",
     "shell.execute_reply": "2022-02-04T16:06:50.382401Z",
     "shell.execute_reply.started": "2022-02-04T16:03:27.858336Z"
    },
    "id": "_EOarWo1WvnJ",
    "papermill": {
     "duration": 0.081248,
     "end_time": "2022-02-04T16:06:50.382602",
     "exception": false,
     "start_time": "2022-02-04T16:06:50.301354",
     "status": "completed"
    },
    "tags": []
   },
   "outputs": [],
   "source": [
    "modelo = LogisticRegression(max_iter=1000)"
   ]
  },
  {
   "cell_type": "code",
   "execution_count": 42,
   "id": "562eeddc",
   "metadata": {
    "execution": {
     "iopub.execute_input": "2022-02-04T16:06:50.541118Z",
     "iopub.status.busy": "2022-02-04T16:06:50.540465Z",
     "iopub.status.idle": "2022-02-04T16:06:50.730199Z",
     "shell.execute_reply": "2022-02-04T16:06:50.729553Z",
     "shell.execute_reply.started": "2022-02-04T16:03:27.874042Z"
    },
    "id": "RcoDpI7WRDK4",
    "outputId": "deb533da-edda-4fe5-bab5-27848db25900",
    "papermill": {
     "duration": 0.272473,
     "end_time": "2022-02-04T16:06:50.730354",
     "exception": false,
     "start_time": "2022-02-04T16:06:50.457881",
     "status": "completed"
    },
    "tags": []
   },
   "outputs": [
    {
     "data": {
      "text/plain": [
       "LogisticRegression(max_iter=1000)"
      ]
     },
     "execution_count": 42,
     "metadata": {},
     "output_type": "execute_result"
    }
   ],
   "source": [
    "modelo.fit(X_train, y_train)"
   ]
  },
  {
   "cell_type": "markdown",
   "id": "61b1e1d6",
   "metadata": {
    "id": "Rknblzvrju0x",
    "papermill": {
     "duration": 0.074927,
     "end_time": "2022-02-04T16:06:50.881116",
     "exception": false,
     "start_time": "2022-02-04T16:06:50.806189",
     "status": "completed"
    },
    "tags": []
   },
   "source": [
    "## Model training results"
   ]
  },
  {
   "cell_type": "code",
   "execution_count": 43,
   "id": "5416e03e",
   "metadata": {
    "execution": {
     "iopub.execute_input": "2022-02-04T16:06:51.036444Z",
     "iopub.status.busy": "2022-02-04T16:06:51.035743Z",
     "iopub.status.idle": "2022-02-04T16:06:51.045251Z",
     "shell.execute_reply": "2022-02-04T16:06:51.045825Z",
     "shell.execute_reply.started": "2022-02-04T16:03:28.080719Z"
    },
    "id": "vMSiwsURjPc2",
    "outputId": "f11914ba-be11-469c-97bc-a5f491df9e0f",
    "papermill": {
     "duration": 0.088538,
     "end_time": "2022-02-04T16:06:51.046003",
     "exception": false,
     "start_time": "2022-02-04T16:06:50.957465",
     "status": "completed"
    },
    "tags": []
   },
   "outputs": [
    {
     "data": {
      "text/plain": [
       "array([1, 1, 0, 1, 0, 0, 0, 1, 0, 0, 1, 0, 1, 0, 0, 0, 1, 1, 1, 0, 1, 0,\n",
       "       0, 0, 1, 1, 1, 1, 0, 1, 1, 1, 1, 1, 1, 1, 0, 1, 1, 1, 0, 0, 1, 1,\n",
       "       1, 1, 1, 0, 0, 1, 0, 1, 0, 1, 1, 0, 1, 1, 1, 1, 1, 1, 0, 0, 1, 1,\n",
       "       0, 0, 1, 1, 1, 0, 1, 0, 1, 1, 0, 1, 1, 1, 1, 1, 0, 0, 1, 0, 1, 0,\n",
       "       0, 1, 0, 0, 1, 1, 0, 1, 0, 1, 1, 0, 1, 1, 1, 0, 1, 1, 0, 1, 1, 1,\n",
       "       0, 0, 1, 0, 0, 1, 1, 1, 1, 0, 1, 0, 0, 0, 1, 1, 1, 0, 1, 0, 1, 0,\n",
       "       0, 0, 1, 1, 0, 1, 0, 1, 1, 0, 1, 1, 0, 1, 1, 1, 1, 1, 1, 1, 1, 1,\n",
       "       0, 1, 0, 0, 0, 0, 0, 1, 1, 1, 1, 0, 1, 1, 1, 1, 1, 0, 0, 1, 0, 0,\n",
       "       1, 1, 1, 0, 1, 0, 1, 0, 0, 0, 0, 0, 1, 0, 1, 1, 0, 0, 0, 0, 1, 1,\n",
       "       1, 1, 1, 0, 1, 0, 1, 0, 0, 0, 1, 1, 0])"
      ]
     },
     "execution_count": 43,
     "metadata": {},
     "output_type": "execute_result"
    }
   ],
   "source": [
    "pred_train = modelo.predict(X_train)\n",
    "pred_train"
   ]
  },
  {
   "cell_type": "code",
   "execution_count": 44,
   "id": "beecffb0",
   "metadata": {
    "execution": {
     "iopub.execute_input": "2022-02-04T16:06:51.206759Z",
     "iopub.status.busy": "2022-02-04T16:06:51.205960Z",
     "iopub.status.idle": "2022-02-04T16:06:51.210610Z",
     "shell.execute_reply": "2022-02-04T16:06:51.211276Z",
     "shell.execute_reply.started": "2022-02-04T16:03:28.092390Z"
    },
    "id": "RvjdWWSyESCK",
    "outputId": "7cb07b97-6546-4f53-9533-d190810526a5",
    "papermill": {
     "duration": 0.089154,
     "end_time": "2022-02-04T16:06:51.211510",
     "exception": false,
     "start_time": "2022-02-04T16:06:51.122356",
     "status": "completed"
    },
    "tags": []
   },
   "outputs": [
    {
     "name": "stdout",
     "output_type": "stream",
     "text": [
      "A eficácia do modelo no treino foi de : 87.20%\n"
     ]
    }
   ],
   "source": [
    "print('A eficácia do modelo no treino foi de : {:.2f}%'.format(modelo.score(X_train,y_train)*100))"
   ]
  },
  {
   "cell_type": "markdown",
   "id": "c4182618",
   "metadata": {
    "id": "rOoEMT3rkmI8",
    "papermill": {
     "duration": 0.075622,
     "end_time": "2022-02-04T16:06:51.362981",
     "exception": false,
     "start_time": "2022-02-04T16:06:51.287359",
     "status": "completed"
    },
    "tags": []
   },
   "source": [
    "## Model test results"
   ]
  },
  {
   "cell_type": "code",
   "execution_count": 45,
   "id": "a292ce0d",
   "metadata": {
    "execution": {
     "iopub.execute_input": "2022-02-04T16:06:51.522600Z",
     "iopub.status.busy": "2022-02-04T16:06:51.521906Z",
     "iopub.status.idle": "2022-02-04T16:06:51.527014Z",
     "shell.execute_reply": "2022-02-04T16:06:51.527600Z",
     "shell.execute_reply.started": "2022-02-04T16:03:28.108742Z"
    },
    "id": "_q6ZvpGPlHV_",
    "outputId": "01cab80e-2e9a-43e1-e1b0-7621fe18949f",
    "papermill": {
     "duration": 0.088907,
     "end_time": "2022-02-04T16:06:51.527833",
     "exception": false,
     "start_time": "2022-02-04T16:06:51.438926",
     "status": "completed"
    },
    "tags": []
   },
   "outputs": [
    {
     "data": {
      "text/plain": [
       "array([0, 1, 0, 0, 0, 0, 0, 0, 0, 0, 1, 1, 0, 1, 1, 1, 0, 1, 1, 1, 1, 0,\n",
       "       0, 0, 1, 0, 0, 0, 1, 1, 0, 0, 1, 1, 1, 0, 1, 1, 0, 0, 1, 1, 0, 0,\n",
       "       1, 1, 1, 1, 0, 1, 1, 1, 1, 1, 1, 1, 1, 1, 1, 1, 1, 1, 1, 1, 1, 0,\n",
       "       1, 0, 1, 1, 0, 1, 1, 0, 1, 1, 0, 0, 1, 0, 0, 0, 1, 0, 0, 0, 1, 1,\n",
       "       1, 1, 0])"
      ]
     },
     "execution_count": 45,
     "metadata": {},
     "output_type": "execute_result"
    }
   ],
   "source": [
    "pred_test = modelo.predict(X_test)\n",
    "pred_test"
   ]
  },
  {
   "cell_type": "code",
   "execution_count": 46,
   "id": "a7914f2f",
   "metadata": {
    "execution": {
     "iopub.execute_input": "2022-02-04T16:06:51.687822Z",
     "iopub.status.busy": "2022-02-04T16:06:51.687079Z",
     "iopub.status.idle": "2022-02-04T16:06:51.695813Z",
     "shell.execute_reply": "2022-02-04T16:06:51.696548Z",
     "shell.execute_reply.started": "2022-02-04T16:03:28.128571Z"
    },
    "id": "RGGjI51Kkjl_",
    "outputId": "5388de24-b3af-4ec0-f130-3751186f13a7",
    "papermill": {
     "duration": 0.090223,
     "end_time": "2022-02-04T16:06:51.696826",
     "exception": false,
     "start_time": "2022-02-04T16:06:51.606603",
     "status": "completed"
    },
    "tags": []
   },
   "outputs": [
    {
     "name": "stdout",
     "output_type": "stream",
     "text": [
      "The effectiveness of the model in the test was: 81.32%\n"
     ]
    }
   ],
   "source": [
    "print('The effectiveness of the model in the test was: {:.2f}%'.format(modelo.score(X_test,y_test)*100))"
   ]
  },
  {
   "cell_type": "markdown",
   "id": "fca5daad",
   "metadata": {
    "id": "qdVFwswagahw",
    "papermill": {
     "duration": 0.076897,
     "end_time": "2022-02-04T16:06:51.850493",
     "exception": false,
     "start_time": "2022-02-04T16:06:51.773596",
     "status": "completed"
    },
    "tags": []
   },
   "source": [
    "# **Model performance evaluation**"
   ]
  },
  {
   "cell_type": "markdown",
   "id": "f9584d2b",
   "metadata": {
    "id": "iBZ6yAWPcPsb",
    "papermill": {
     "duration": 0.077631,
     "end_time": "2022-02-04T16:06:52.004830",
     "exception": false,
     "start_time": "2022-02-04T16:06:51.927199",
     "status": "completed"
    },
    "tags": []
   },
   "source": [
    "## **Confusion matrix**"
   ]
  },
  {
   "cell_type": "code",
   "execution_count": 47,
   "id": "b807282b",
   "metadata": {
    "execution": {
     "iopub.execute_input": "2022-02-04T16:06:52.163184Z",
     "iopub.status.busy": "2022-02-04T16:06:52.162486Z",
     "iopub.status.idle": "2022-02-04T16:06:52.166125Z",
     "shell.execute_reply": "2022-02-04T16:06:52.166627Z",
     "shell.execute_reply.started": "2022-02-04T16:03:28.145878Z"
    },
    "id": "rij15oO5mRMM",
    "papermill": {
     "duration": 0.084641,
     "end_time": "2022-02-04T16:06:52.166828",
     "exception": false,
     "start_time": "2022-02-04T16:06:52.082187",
     "status": "completed"
    },
    "tags": []
   },
   "outputs": [],
   "source": [
    "from sklearn.metrics import confusion_matrix, accuracy_score, recall_score, f1_score"
   ]
  },
  {
   "cell_type": "code",
   "execution_count": 48,
   "id": "3b2d8e02",
   "metadata": {
    "execution": {
     "iopub.execute_input": "2022-02-04T16:06:52.322601Z",
     "iopub.status.busy": "2022-02-04T16:06:52.321943Z",
     "iopub.status.idle": "2022-02-04T16:06:52.328640Z",
     "shell.execute_reply": "2022-02-04T16:06:52.329324Z",
     "shell.execute_reply.started": "2022-02-04T16:03:28.159279Z"
    },
    "id": "LLuqh5u3ch8E",
    "papermill": {
     "duration": 0.086515,
     "end_time": "2022-02-04T16:06:52.329511",
     "exception": false,
     "start_time": "2022-02-04T16:06:52.242996",
     "status": "completed"
    },
    "tags": []
   },
   "outputs": [],
   "source": [
    "def plot_confusion_matrix(y_true, y_pred):\n",
    "    cm=confusion_matrix(y_true, y_pred)\n",
    "    tn, fn, fp, tp = cm.ravel()\n",
    "\n",
    "    cm = [[tp, fp], [fn, tn]]\n",
    "    sns.heatmap(cm, annot=True, fmt='d');\n",
    "    plt.xlabel('Prediction', fontsize=16)\n",
    "    plt.ylabel('Target', fontsize=16)\n",
    "\n",
    "    plt.show()"
   ]
  },
  {
   "cell_type": "code",
   "execution_count": 49,
   "id": "3e774de3",
   "metadata": {
    "execution": {
     "iopub.execute_input": "2022-02-04T16:06:52.487649Z",
     "iopub.status.busy": "2022-02-04T16:06:52.487017Z",
     "iopub.status.idle": "2022-02-04T16:06:52.726991Z",
     "shell.execute_reply": "2022-02-04T16:06:52.726441Z",
     "shell.execute_reply.started": "2022-02-04T16:03:28.172871Z"
    },
    "id": "ccTPrqoFf39g",
    "outputId": "a46031c5-16c8-46a4-aa3a-51cd0903bafd",
    "papermill": {
     "duration": 0.321819,
     "end_time": "2022-02-04T16:06:52.727138",
     "exception": false,
     "start_time": "2022-02-04T16:06:52.405319",
     "status": "completed"
    },
    "tags": []
   },
   "outputs": [
    {
     "name": "stdout",
     "output_type": "stream",
     "text": [
      "Accuracy in the training set: 0.87\n",
      "Revocation in the training set: 0.91\n",
      "F1 score in the training set: 0.89\n"
     ]
    },
    {
     "data": {
      "image/png": "[encoded data removed]",
      "text/plain": [
       "<Figure size 432x288 with 2 Axes>"
      ]
     },
     "metadata": {},
     "output_type": "display_data"
    }
   ],
   "source": [
    "print('Accuracy in the training set: {:.2f}'.format(accuracy_score(y_train, pred_train)))\n",
    "print('Revocation in the training set: {:.2f}'.format(recall_score(y_train, pred_train)))\n",
    "print('F1 score in the training set: {:.2f}'.format(f1_score(y_train, pred_train)))\n",
    "plot_confusion_matrix(y_train, pred_train)"
   ]
  },
  {
   "cell_type": "code",
   "execution_count": 50,
   "id": "8a8dd18c",
   "metadata": {
    "execution": {
     "iopub.execute_input": "2022-02-04T16:06:52.890010Z",
     "iopub.status.busy": "2022-02-04T16:06:52.889263Z",
     "iopub.status.idle": "2022-02-04T16:06:53.151486Z",
     "shell.execute_reply": "2022-02-04T16:06:53.150959Z",
     "shell.execute_reply.started": "2022-02-04T16:03:28.432704Z"
    },
    "id": "XfbXe2dQgDHj",
    "outputId": "91fcdfe3-45f9-4bc6-e4f2-7fd0974f0216",
    "papermill": {
     "duration": 0.347011,
     "end_time": "2022-02-04T16:06:53.151632",
     "exception": false,
     "start_time": "2022-02-04T16:06:52.804621",
     "status": "completed"
    },
    "tags": []
   },
   "outputs": [
    {
     "name": "stdout",
     "output_type": "stream",
     "text": [
      "Test set accuracy: 0.81\n",
      "Revocation in the test set: 0.89\n",
      "F1 score in the training set: 0.83\n"
     ]
    },
    {
     "data": {
      "image/png": "[encoded data removed]",
      "text/plain": [
       "<Figure size 432x288 with 2 Axes>"
      ]
     },
     "metadata": {},
     "output_type": "display_data"
    }
   ],
   "source": [
    "print('Test set accuracy: {:.2f}'.format(accuracy_score(y_test, pred_test)))\n",
    "print('Revocation in the test set: {:.2f}'.format(recall_score(y_test, pred_test)))\n",
    "print('F1 score in the training set: {:.2f}'.format(f1_score(y_test, pred_test)))\n",
    "plot_confusion_matrix(y_test, pred_test)"
   ]
  }
 ],
 "metadata": {
  "kernelspec": {
   "display_name": "Python 3",
   "language": "python",
   "name": "python3"
  },
  "language_info": {
   "codemirror_mode": {
    "name": "ipython",
    "version": 3
   },
   "file_extension": ".py",
   "mimetype": "text/x-python",
   "name": "python",
   "nbconvert_exporter": "python",
   "pygments_lexer": "ipython3",
   "version": "3.7.12"
  },
  "papermill": {
   "default_parameters": {},
   "duration": 30.97223,
   "end_time": "2022-02-04T16:06:54.043633",
   "environment_variables": {},
   "exception": null,
   "input_path": "__notebook__.ipynb",
   "output_path": "__notebook__.ipynb",
   "parameters": {},
   "start_time": "2022-02-04T16:06:23.071403",
   "version": "2.3.3"
  }
 },
 "nbformat": 4,
 "nbformat_minor": 5
}
